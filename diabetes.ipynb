{
 "cells": [
  {
   "cell_type": "code",
   "execution_count": 1,
   "metadata": {},
   "outputs": [],
   "source": [
    "from matplotlib.colors import ListedColormap\n",
    "import matplotlib.pyplot as plt"
   ]
  },
  {
   "cell_type": "code",
   "execution_count": 2,
   "metadata": {},
   "outputs": [],
   "source": [
    "def plot_decision_regions(X, y, classifier,test_idx=None, resolution=0.02):\n",
    "    # setup marker generator and color map\n",
    "    markers = ('s', 'x', 'v', '^', 'o')\n",
    "    colors = ('red', 'blue', 'lightgreen', 'gray', 'cyan')\n",
    "    cmap = ListedColormap(colors[:len(np.unique(y))])\n",
    "    # plot the decision surface\n",
    "    x1_min, x1_max = X[:, 0].min() - 1, X[:, 0].max() + 1\n",
    "    x2_min, x2_max = X[:, 1].min() - 1, X[:, 1].max() + 1\n",
    "    xx1, xx2 = np.meshgrid(np.arange(x1_min, x1_max, resolution),\n",
    "                           np.arange(x2_min, x2_max, resolution))\n",
    "    Z = classifier.predict(np.array([xx1.ravel(), xx2.ravel()]).T)\n",
    "    Z = Z.reshape(xx1.shape)\n",
    "    plt.contourf(xx1, xx2, Z, alpha=0.4, cmap=cmap)\n",
    "    plt.xlim(xx1.min(), xx1.max())\n",
    "    plt.ylim(xx2.min(), xx2.max())\n",
    "    # plot all samples\n",
    "    X_test, y_test = X[test_idx, :], y[test_idx]\n",
    "    for idx, cl in enumerate(np.unique(y)):\n",
    "        plt.scatter(x=X[y == cl, 0], y=X[y == cl, 1],\n",
    "                    alpha=0.8, c=cmap(idx),\n",
    "                    marker=markers[idx], label=cl)\n",
    "    # highlight test samples\n",
    "    if test_idx:\n",
    "        X_test, y_test = X[test_idx, :], y[test_idx]\n",
    "        plt.scatter(X_test[:, 0], X_test[:, 1], c='',\n",
    "                    alpha=1.0, linewidth=1, marker='v',\n",
    "                    s=55, label='test set')\n"
   ]
  },
  {
   "cell_type": "code",
   "execution_count": 3,
   "metadata": {},
   "outputs": [
    {
     "data": {
      "text/html": [
       "<div>\n",
       "<style scoped>\n",
       "    .dataframe tbody tr th:only-of-type {\n",
       "        vertical-align: middle;\n",
       "    }\n",
       "\n",
       "    .dataframe tbody tr th {\n",
       "        vertical-align: top;\n",
       "    }\n",
       "\n",
       "    .dataframe thead th {\n",
       "        text-align: right;\n",
       "    }\n",
       "</style>\n",
       "<table border=\"1\" class=\"dataframe\">\n",
       "  <thead>\n",
       "    <tr style=\"text-align: right;\">\n",
       "      <th></th>\n",
       "      <th>Pregnancies</th>\n",
       "      <th>Glucose</th>\n",
       "      <th>BloodPressure</th>\n",
       "      <th>SkinThickness</th>\n",
       "      <th>Insulin</th>\n",
       "      <th>BMI</th>\n",
       "      <th>DiabetesPedigreeFunction</th>\n",
       "      <th>Age</th>\n",
       "      <th>Outcome</th>\n",
       "    </tr>\n",
       "  </thead>\n",
       "  <tbody>\n",
       "    <tr>\n",
       "      <th>0</th>\n",
       "      <td>6</td>\n",
       "      <td>148</td>\n",
       "      <td>72</td>\n",
       "      <td>35</td>\n",
       "      <td>0</td>\n",
       "      <td>33.6</td>\n",
       "      <td>0.627</td>\n",
       "      <td>50</td>\n",
       "      <td>1</td>\n",
       "    </tr>\n",
       "    <tr>\n",
       "      <th>1</th>\n",
       "      <td>1</td>\n",
       "      <td>85</td>\n",
       "      <td>66</td>\n",
       "      <td>29</td>\n",
       "      <td>0</td>\n",
       "      <td>26.6</td>\n",
       "      <td>0.351</td>\n",
       "      <td>31</td>\n",
       "      <td>0</td>\n",
       "    </tr>\n",
       "    <tr>\n",
       "      <th>2</th>\n",
       "      <td>8</td>\n",
       "      <td>183</td>\n",
       "      <td>64</td>\n",
       "      <td>0</td>\n",
       "      <td>0</td>\n",
       "      <td>23.3</td>\n",
       "      <td>0.672</td>\n",
       "      <td>32</td>\n",
       "      <td>1</td>\n",
       "    </tr>\n",
       "    <tr>\n",
       "      <th>3</th>\n",
       "      <td>1</td>\n",
       "      <td>89</td>\n",
       "      <td>66</td>\n",
       "      <td>23</td>\n",
       "      <td>94</td>\n",
       "      <td>28.1</td>\n",
       "      <td>0.167</td>\n",
       "      <td>21</td>\n",
       "      <td>0</td>\n",
       "    </tr>\n",
       "    <tr>\n",
       "      <th>4</th>\n",
       "      <td>0</td>\n",
       "      <td>137</td>\n",
       "      <td>40</td>\n",
       "      <td>35</td>\n",
       "      <td>168</td>\n",
       "      <td>43.1</td>\n",
       "      <td>2.288</td>\n",
       "      <td>33</td>\n",
       "      <td>1</td>\n",
       "    </tr>\n",
       "  </tbody>\n",
       "</table>\n",
       "</div>"
      ],
      "text/plain": [
       "   Pregnancies  Glucose  BloodPressure  SkinThickness  Insulin   BMI  \\\n",
       "0            6      148             72             35        0  33.6   \n",
       "1            1       85             66             29        0  26.6   \n",
       "2            8      183             64              0        0  23.3   \n",
       "3            1       89             66             23       94  28.1   \n",
       "4            0      137             40             35      168  43.1   \n",
       "\n",
       "   DiabetesPedigreeFunction  Age  Outcome  \n",
       "0                     0.627   50        1  \n",
       "1                     0.351   31        0  \n",
       "2                     0.672   32        1  \n",
       "3                     0.167   21        0  \n",
       "4                     2.288   33        1  "
      ]
     },
     "execution_count": 3,
     "metadata": {},
     "output_type": "execute_result"
    }
   ],
   "source": [
    "import pandas\n",
    "diabetes = pandas.read_csv(r\"C:\\Users\\NIDHI\\Desktop\\Projects\\Diabetes_prediction\\diabetes.csv\")\n",
    "diabetes.head()\n"
   ]
  },
  {
   "cell_type": "code",
   "execution_count": 4,
   "metadata": {},
   "outputs": [
    {
     "data": {
      "text/plain": [
       "Index(['Pregnancies', 'Glucose', 'BloodPressure', 'SkinThickness', 'Insulin',\n",
       "       'BMI', 'DiabetesPedigreeFunction', 'Age', 'Outcome'],\n",
       "      dtype='object')"
      ]
     },
     "execution_count": 4,
     "metadata": {},
     "output_type": "execute_result"
    }
   ],
   "source": [
    "diabetes.columns"
   ]
  },
  {
   "cell_type": "code",
   "execution_count": 5,
   "metadata": {},
   "outputs": [],
   "source": [
    "from sklearn.linear_model import SGDClassifier\n",
    "ppn = SGDClassifier(loss='perceptron')\n",
    "lr = SGDClassifier(loss='log')\n",
    "svm = SGDClassifier(loss='hinge')\n"
   ]
  },
  {
   "cell_type": "code",
   "execution_count": 6,
   "metadata": {},
   "outputs": [
    {
     "name": "stdout",
     "output_type": "stream",
     "text": [
      "<class 'pandas.core.frame.DataFrame'>\n",
      "RangeIndex: 768 entries, 0 to 767\n",
      "Data columns (total 9 columns):\n",
      "Pregnancies                 768 non-null int64\n",
      "Glucose                     768 non-null int64\n",
      "BloodPressure               768 non-null int64\n",
      "SkinThickness               768 non-null int64\n",
      "Insulin                     768 non-null int64\n",
      "BMI                         768 non-null float64\n",
      "DiabetesPedigreeFunction    768 non-null float64\n",
      "Age                         768 non-null int64\n",
      "Outcome                     768 non-null int64\n",
      "dtypes: float64(2), int64(7)\n",
      "memory usage: 54.1 KB\n"
     ]
    }
   ],
   "source": [
    "diabetes.info()"
   ]
  },
  {
   "cell_type": "code",
   "execution_count": 7,
   "metadata": {},
   "outputs": [],
   "source": [
    "X = diabetes[['Glucose','BMI']]"
   ]
  },
  {
   "cell_type": "code",
   "execution_count": 8,
   "metadata": {},
   "outputs": [
    {
     "data": {
      "text/html": [
       "<div>\n",
       "<style scoped>\n",
       "    .dataframe tbody tr th:only-of-type {\n",
       "        vertical-align: middle;\n",
       "    }\n",
       "\n",
       "    .dataframe tbody tr th {\n",
       "        vertical-align: top;\n",
       "    }\n",
       "\n",
       "    .dataframe thead th {\n",
       "        text-align: right;\n",
       "    }\n",
       "</style>\n",
       "<table border=\"1\" class=\"dataframe\">\n",
       "  <thead>\n",
       "    <tr style=\"text-align: right;\">\n",
       "      <th></th>\n",
       "      <th>Glucose</th>\n",
       "      <th>BMI</th>\n",
       "    </tr>\n",
       "  </thead>\n",
       "  <tbody>\n",
       "    <tr>\n",
       "      <th>0</th>\n",
       "      <td>148</td>\n",
       "      <td>33.6</td>\n",
       "    </tr>\n",
       "    <tr>\n",
       "      <th>1</th>\n",
       "      <td>85</td>\n",
       "      <td>26.6</td>\n",
       "    </tr>\n",
       "    <tr>\n",
       "      <th>2</th>\n",
       "      <td>183</td>\n",
       "      <td>23.3</td>\n",
       "    </tr>\n",
       "    <tr>\n",
       "      <th>3</th>\n",
       "      <td>89</td>\n",
       "      <td>28.1</td>\n",
       "    </tr>\n",
       "    <tr>\n",
       "      <th>4</th>\n",
       "      <td>137</td>\n",
       "      <td>43.1</td>\n",
       "    </tr>\n",
       "    <tr>\n",
       "      <th>5</th>\n",
       "      <td>116</td>\n",
       "      <td>25.6</td>\n",
       "    </tr>\n",
       "    <tr>\n",
       "      <th>6</th>\n",
       "      <td>78</td>\n",
       "      <td>31.0</td>\n",
       "    </tr>\n",
       "    <tr>\n",
       "      <th>7</th>\n",
       "      <td>115</td>\n",
       "      <td>35.3</td>\n",
       "    </tr>\n",
       "    <tr>\n",
       "      <th>8</th>\n",
       "      <td>197</td>\n",
       "      <td>30.5</td>\n",
       "    </tr>\n",
       "    <tr>\n",
       "      <th>9</th>\n",
       "      <td>125</td>\n",
       "      <td>0.0</td>\n",
       "    </tr>\n",
       "    <tr>\n",
       "      <th>10</th>\n",
       "      <td>110</td>\n",
       "      <td>37.6</td>\n",
       "    </tr>\n",
       "    <tr>\n",
       "      <th>11</th>\n",
       "      <td>168</td>\n",
       "      <td>38.0</td>\n",
       "    </tr>\n",
       "    <tr>\n",
       "      <th>12</th>\n",
       "      <td>139</td>\n",
       "      <td>27.1</td>\n",
       "    </tr>\n",
       "    <tr>\n",
       "      <th>13</th>\n",
       "      <td>189</td>\n",
       "      <td>30.1</td>\n",
       "    </tr>\n",
       "    <tr>\n",
       "      <th>14</th>\n",
       "      <td>166</td>\n",
       "      <td>25.8</td>\n",
       "    </tr>\n",
       "    <tr>\n",
       "      <th>15</th>\n",
       "      <td>100</td>\n",
       "      <td>30.0</td>\n",
       "    </tr>\n",
       "    <tr>\n",
       "      <th>16</th>\n",
       "      <td>118</td>\n",
       "      <td>45.8</td>\n",
       "    </tr>\n",
       "    <tr>\n",
       "      <th>17</th>\n",
       "      <td>107</td>\n",
       "      <td>29.6</td>\n",
       "    </tr>\n",
       "    <tr>\n",
       "      <th>18</th>\n",
       "      <td>103</td>\n",
       "      <td>43.3</td>\n",
       "    </tr>\n",
       "    <tr>\n",
       "      <th>19</th>\n",
       "      <td>115</td>\n",
       "      <td>34.6</td>\n",
       "    </tr>\n",
       "    <tr>\n",
       "      <th>20</th>\n",
       "      <td>126</td>\n",
       "      <td>39.3</td>\n",
       "    </tr>\n",
       "    <tr>\n",
       "      <th>21</th>\n",
       "      <td>99</td>\n",
       "      <td>35.4</td>\n",
       "    </tr>\n",
       "    <tr>\n",
       "      <th>22</th>\n",
       "      <td>196</td>\n",
       "      <td>39.8</td>\n",
       "    </tr>\n",
       "    <tr>\n",
       "      <th>23</th>\n",
       "      <td>119</td>\n",
       "      <td>29.0</td>\n",
       "    </tr>\n",
       "    <tr>\n",
       "      <th>24</th>\n",
       "      <td>143</td>\n",
       "      <td>36.6</td>\n",
       "    </tr>\n",
       "    <tr>\n",
       "      <th>25</th>\n",
       "      <td>125</td>\n",
       "      <td>31.1</td>\n",
       "    </tr>\n",
       "    <tr>\n",
       "      <th>26</th>\n",
       "      <td>147</td>\n",
       "      <td>39.4</td>\n",
       "    </tr>\n",
       "    <tr>\n",
       "      <th>27</th>\n",
       "      <td>97</td>\n",
       "      <td>23.2</td>\n",
       "    </tr>\n",
       "    <tr>\n",
       "      <th>28</th>\n",
       "      <td>145</td>\n",
       "      <td>22.2</td>\n",
       "    </tr>\n",
       "    <tr>\n",
       "      <th>29</th>\n",
       "      <td>117</td>\n",
       "      <td>34.1</td>\n",
       "    </tr>\n",
       "    <tr>\n",
       "      <th>...</th>\n",
       "      <td>...</td>\n",
       "      <td>...</td>\n",
       "    </tr>\n",
       "    <tr>\n",
       "      <th>738</th>\n",
       "      <td>99</td>\n",
       "      <td>36.6</td>\n",
       "    </tr>\n",
       "    <tr>\n",
       "      <th>739</th>\n",
       "      <td>102</td>\n",
       "      <td>39.5</td>\n",
       "    </tr>\n",
       "    <tr>\n",
       "      <th>740</th>\n",
       "      <td>120</td>\n",
       "      <td>42.3</td>\n",
       "    </tr>\n",
       "    <tr>\n",
       "      <th>741</th>\n",
       "      <td>102</td>\n",
       "      <td>30.8</td>\n",
       "    </tr>\n",
       "    <tr>\n",
       "      <th>742</th>\n",
       "      <td>109</td>\n",
       "      <td>28.5</td>\n",
       "    </tr>\n",
       "    <tr>\n",
       "      <th>743</th>\n",
       "      <td>140</td>\n",
       "      <td>32.7</td>\n",
       "    </tr>\n",
       "    <tr>\n",
       "      <th>744</th>\n",
       "      <td>153</td>\n",
       "      <td>40.6</td>\n",
       "    </tr>\n",
       "    <tr>\n",
       "      <th>745</th>\n",
       "      <td>100</td>\n",
       "      <td>30.0</td>\n",
       "    </tr>\n",
       "    <tr>\n",
       "      <th>746</th>\n",
       "      <td>147</td>\n",
       "      <td>49.3</td>\n",
       "    </tr>\n",
       "    <tr>\n",
       "      <th>747</th>\n",
       "      <td>81</td>\n",
       "      <td>46.3</td>\n",
       "    </tr>\n",
       "    <tr>\n",
       "      <th>748</th>\n",
       "      <td>187</td>\n",
       "      <td>36.4</td>\n",
       "    </tr>\n",
       "    <tr>\n",
       "      <th>749</th>\n",
       "      <td>162</td>\n",
       "      <td>24.3</td>\n",
       "    </tr>\n",
       "    <tr>\n",
       "      <th>750</th>\n",
       "      <td>136</td>\n",
       "      <td>31.2</td>\n",
       "    </tr>\n",
       "    <tr>\n",
       "      <th>751</th>\n",
       "      <td>121</td>\n",
       "      <td>39.0</td>\n",
       "    </tr>\n",
       "    <tr>\n",
       "      <th>752</th>\n",
       "      <td>108</td>\n",
       "      <td>26.0</td>\n",
       "    </tr>\n",
       "    <tr>\n",
       "      <th>753</th>\n",
       "      <td>181</td>\n",
       "      <td>43.3</td>\n",
       "    </tr>\n",
       "    <tr>\n",
       "      <th>754</th>\n",
       "      <td>154</td>\n",
       "      <td>32.4</td>\n",
       "    </tr>\n",
       "    <tr>\n",
       "      <th>755</th>\n",
       "      <td>128</td>\n",
       "      <td>36.5</td>\n",
       "    </tr>\n",
       "    <tr>\n",
       "      <th>756</th>\n",
       "      <td>137</td>\n",
       "      <td>32.0</td>\n",
       "    </tr>\n",
       "    <tr>\n",
       "      <th>757</th>\n",
       "      <td>123</td>\n",
       "      <td>36.3</td>\n",
       "    </tr>\n",
       "    <tr>\n",
       "      <th>758</th>\n",
       "      <td>106</td>\n",
       "      <td>37.5</td>\n",
       "    </tr>\n",
       "    <tr>\n",
       "      <th>759</th>\n",
       "      <td>190</td>\n",
       "      <td>35.5</td>\n",
       "    </tr>\n",
       "    <tr>\n",
       "      <th>760</th>\n",
       "      <td>88</td>\n",
       "      <td>28.4</td>\n",
       "    </tr>\n",
       "    <tr>\n",
       "      <th>761</th>\n",
       "      <td>170</td>\n",
       "      <td>44.0</td>\n",
       "    </tr>\n",
       "    <tr>\n",
       "      <th>762</th>\n",
       "      <td>89</td>\n",
       "      <td>22.5</td>\n",
       "    </tr>\n",
       "    <tr>\n",
       "      <th>763</th>\n",
       "      <td>101</td>\n",
       "      <td>32.9</td>\n",
       "    </tr>\n",
       "    <tr>\n",
       "      <th>764</th>\n",
       "      <td>122</td>\n",
       "      <td>36.8</td>\n",
       "    </tr>\n",
       "    <tr>\n",
       "      <th>765</th>\n",
       "      <td>121</td>\n",
       "      <td>26.2</td>\n",
       "    </tr>\n",
       "    <tr>\n",
       "      <th>766</th>\n",
       "      <td>126</td>\n",
       "      <td>30.1</td>\n",
       "    </tr>\n",
       "    <tr>\n",
       "      <th>767</th>\n",
       "      <td>93</td>\n",
       "      <td>30.4</td>\n",
       "    </tr>\n",
       "  </tbody>\n",
       "</table>\n",
       "<p>768 rows × 2 columns</p>\n",
       "</div>"
      ],
      "text/plain": [
       "     Glucose   BMI\n",
       "0        148  33.6\n",
       "1         85  26.6\n",
       "2        183  23.3\n",
       "3         89  28.1\n",
       "4        137  43.1\n",
       "5        116  25.6\n",
       "6         78  31.0\n",
       "7        115  35.3\n",
       "8        197  30.5\n",
       "9        125   0.0\n",
       "10       110  37.6\n",
       "11       168  38.0\n",
       "12       139  27.1\n",
       "13       189  30.1\n",
       "14       166  25.8\n",
       "15       100  30.0\n",
       "16       118  45.8\n",
       "17       107  29.6\n",
       "18       103  43.3\n",
       "19       115  34.6\n",
       "20       126  39.3\n",
       "21        99  35.4\n",
       "22       196  39.8\n",
       "23       119  29.0\n",
       "24       143  36.6\n",
       "25       125  31.1\n",
       "26       147  39.4\n",
       "27        97  23.2\n",
       "28       145  22.2\n",
       "29       117  34.1\n",
       "..       ...   ...\n",
       "738       99  36.6\n",
       "739      102  39.5\n",
       "740      120  42.3\n",
       "741      102  30.8\n",
       "742      109  28.5\n",
       "743      140  32.7\n",
       "744      153  40.6\n",
       "745      100  30.0\n",
       "746      147  49.3\n",
       "747       81  46.3\n",
       "748      187  36.4\n",
       "749      162  24.3\n",
       "750      136  31.2\n",
       "751      121  39.0\n",
       "752      108  26.0\n",
       "753      181  43.3\n",
       "754      154  32.4\n",
       "755      128  36.5\n",
       "756      137  32.0\n",
       "757      123  36.3\n",
       "758      106  37.5\n",
       "759      190  35.5\n",
       "760       88  28.4\n",
       "761      170  44.0\n",
       "762       89  22.5\n",
       "763      101  32.9\n",
       "764      122  36.8\n",
       "765      121  26.2\n",
       "766      126  30.1\n",
       "767       93  30.4\n",
       "\n",
       "[768 rows x 2 columns]"
      ]
     },
     "execution_count": 8,
     "metadata": {},
     "output_type": "execute_result"
    }
   ],
   "source": [
    "X"
   ]
  },
  {
   "cell_type": "code",
   "execution_count": 9,
   "metadata": {},
   "outputs": [],
   "source": [
    "y = diabetes['Outcome']"
   ]
  },
  {
   "cell_type": "code",
   "execution_count": 10,
   "metadata": {},
   "outputs": [
    {
     "data": {
      "text/plain": [
       "0      1\n",
       "1      0\n",
       "2      1\n",
       "3      0\n",
       "4      1\n",
       "5      0\n",
       "6      1\n",
       "7      0\n",
       "8      1\n",
       "9      1\n",
       "10     0\n",
       "11     1\n",
       "12     0\n",
       "13     1\n",
       "14     1\n",
       "15     1\n",
       "16     1\n",
       "17     1\n",
       "18     0\n",
       "19     1\n",
       "20     0\n",
       "21     0\n",
       "22     1\n",
       "23     1\n",
       "24     1\n",
       "25     1\n",
       "26     1\n",
       "27     0\n",
       "28     0\n",
       "29     0\n",
       "      ..\n",
       "738    0\n",
       "739    1\n",
       "740    1\n",
       "741    0\n",
       "742    0\n",
       "743    1\n",
       "744    0\n",
       "745    0\n",
       "746    1\n",
       "747    0\n",
       "748    1\n",
       "749    1\n",
       "750    1\n",
       "751    0\n",
       "752    0\n",
       "753    1\n",
       "754    1\n",
       "755    1\n",
       "756    0\n",
       "757    1\n",
       "758    0\n",
       "759    1\n",
       "760    0\n",
       "761    1\n",
       "762    0\n",
       "763    0\n",
       "764    0\n",
       "765    0\n",
       "766    1\n",
       "767    0\n",
       "Name: Outcome, Length: 768, dtype: int64"
      ]
     },
     "execution_count": 10,
     "metadata": {},
     "output_type": "execute_result"
    }
   ],
   "source": [
    "y"
   ]
  },
  {
   "cell_type": "code",
   "execution_count": 11,
   "metadata": {},
   "outputs": [],
   "source": [
    "from sklearn.model_selection import train_test_split\n",
    "X_train, X_test, y_train, y_test = train_test_split(X, y, test_size=0.3, random_state=0)"
   ]
  },
  {
   "cell_type": "code",
   "execution_count": 12,
   "metadata": {},
   "outputs": [],
   "source": [
    "import numpy as np\n",
    "X_train = np.array(X_train)\n"
   ]
  },
  {
   "cell_type": "code",
   "execution_count": 13,
   "metadata": {},
   "outputs": [],
   "source": [
    "y_train = np.array(y_train)\n",
    "X_test = np.array(X_test)\n",
    "y_test = np.array(y_test)\n"
   ]
  },
  {
   "cell_type": "code",
   "execution_count": 14,
   "metadata": {},
   "outputs": [],
   "source": [
    "from sklearn import svm\n",
    "machine1 = svm.SVC(kernel = 'linear')\n",
    "machine1.fit(X_train,y_train)\n",
    "y_pred = machine1.predict(X_test)"
   ]
  },
  {
   "cell_type": "code",
   "execution_count": 15,
   "metadata": {},
   "outputs": [
    {
     "name": "stderr",
     "output_type": "stream",
     "text": [
      "'c' argument looks like a single numeric RGB or RGBA sequence, which should be avoided as value-mapping will have precedence in case its length matches with 'x' & 'y'.  Please use a 2-D array with a single row if you really want to specify the same RGB or RGBA value for all points.\n",
      "'c' argument looks like a single numeric RGB or RGBA sequence, which should be avoided as value-mapping will have precedence in case its length matches with 'x' & 'y'.  Please use a 2-D array with a single row if you really want to specify the same RGB or RGBA value for all points.\n"
     ]
    },
    {
     "data": {
      "image/png": "iVBORw0KGgoAAAANSUhEUgAAAXAAAAD4CAYAAAD1jb0+AAAABHNCSVQICAgIfAhkiAAAAAlwSFlzAAALEgAACxIB0t1+/AAAADh0RVh0U29mdHdhcmUAbWF0cGxvdGxpYiB2ZXJzaW9uMy4xLjAsIGh0dHA6Ly9tYXRwbG90bGliLm9yZy+17YcXAAAgAElEQVR4nOy9fXhU5Z3//7rPTJ5nEggQQEBEcatd0LoVcLcVWwLVtiyoLZjRWrfVBLUKZOh326B7rXttK7v9lQkPtijRdnWrE0FFqLZ1IVSxuwuJrd1iq/UpFeQhAfI0k+fM3L8/7nNmzkxmkgkJJIH7fV25kjlznjPzvj/nfb8/n4+QUqKhoaGhMfpgDPcJaGhoaGicHjSBa2hoaIxSaALX0NDQGKXQBK6hoaExSqEJXENDQ2OUwnk2Dzbe5ZIXjRt3Ng+pMcJwIpil/nC5hvdEziEEgyAluN3RZYEACKFv87mCQ4d+e1JKOSF++Vkl8IvGjeONBx44m4fUGIGYcf+XKfviBzB//nCfyqiHlLBnD1RXw9y5sHBh79dCDPdZagwWK1aIjxItP6sErqEBULv5ZUXi7NMkPkgIoUgaFGlXV6u/NXmfH9AauMawoHbzy6zbfglPrKsb7lMZ9bCTuAVN3ucHNIFrDBtqN79M/dEe9q37zXCfyqiGJaPYsWePWq5xbkMTuMawonbzy/z30RmsW9sy3KcyKhGvga9dq35XV2sSPx+gCVxj2FG7+WUIBDSJnwaEgIyMWM174UL1OiNDyyjnOjSBa4wIREj8/iPDfSqjDvPnx2reFonr+eFzH5rANUYMaje/DMA6r57YHCjiI20deZ8f0ASuMaJQu/ll6O7hCe9bw30qGhojHprANUYcaje/TH33WC2naGj0A03gGiMSETlFk7iGRlJoAtcYsdAkrqHRNzSBa4xoaBLX0EgOTeAaIx6axDU0EkMTuMaogCZxDY3e0ASuMWqgSVxDIxaawDVGFWo3v0xBWqMmcQ0NNIFrjEIc8P2PJnENDTSBa4xSHPD9D6DlFI3zG5rANUYtaje/TIG7TZO4xnkLTeAaoxoHHv61JnGN8xaawDVGPQ48/GvKPvUrTeIa5x1SInAhxBghxHNCiHeEEG8LIf5WCJEvhNgthHjP/D32TJ+shkYylNwZ0iSucd4h1Qh8I/ArKeVlwJXA28B3gSop5aVAlflaQ2PYUHJniLJlH2gS1xgyxLekG2kt6volcCFELjAfeAJAStklpWwClgJPmqs9Cdx4pk5SQyNVlMx/R5O4xpBg377YvqJW/9F9+4b3vOxIJQK/GDgB/FQI8aYQ4nEhRA4wUUp5DMD8XZBoYyFEiRDiDSHEGyeCwSE7cQ2NZNAkrjFYSAmdnbHNoa3m0Z2dIycSd6a4zt8A90spDwghNjIAuURKuRXYCnD19Okj5LI1znWUzH8HgHX3Q9nmKcN8NhqjDVZfUVCkXV2t/rY3jx4JSCUC/xj4WEp5wHz9HIrQ64QQkwHM3/Vn5hQ1NE4POhLXGAzsJG5hJJE3pEDgUsrjwGEhxCfMRYXAn4BdwB3msjuAnWfkDDU0BgFN4hqnC0s2scOuiY8EpCKhANwPPC2ESAc+BL6BIv9tQog7gUPAsjNzihoag4OWUzQGCrvmbckm1msYOZF4SgQupfw9cHWCtwqH9nQ0NM4MRiOJ3/jwHLICvZXJdncBL66tGYYzOn8gBGRkxGrelpySkTEyyBtSj8A1NEY9RhuJZwXq6XBNSLhc48xj/nwViVtkbZH4SCFv0ASucZ5htJG4xvAinqxHEnmDJnCN8xCaxDXOFWgC1zgvoUlc41yAJnCN8xaaxDVGOzSBa5zXGMkk3u4uSOpC0dAATeAaoxR2d0Ci1wPBSCVxbRXU6A+6oYPGqMPWfZfh2zM7pkqcb89stu677LT3qTM2NUYjNIFrjCpICYHONPzVMyMk7tszG3/1TAKdaYNKc9YkrjHaoCUUjVEFIcC78CAA/uqZ+KtnAuCZ+z7ehQcH7dMdqXKKhkYi6AhcY9TBTuIWhoK8LehIXGO0QBO4xqiDJZvYYdfEhwKaxEcWRnprs+GCJnCNUQW75u2Z+z41a3fgmft+jCY+VNAkPjIwGlqbDRe0Bq4xqiAEuDO6YzRvS05xZ3QPea0KrYkPL+ytzSC2rOvcuYOzj54L0ASuMepQMv+dXlXihlIDT3Q80CQ+HBgtrc2GC1pC0RiVONtV4krmv0Pt5pe1nDIMGA2tzYYLmsA1NAYATeJnH6OhtdlwQRO4hsYAoUn87CG+tdnatep3dbUmcdAErqFxWtAkfnaQrLXZ3Lkjq7XZcEFPYmponCZqN7/MjPu/rCc2zzBGQ2uz4YKOwDU0BgEdiZ8djPTWZsMFTeAaGoOEJvG+obMozxxSInAhxF+EEAeFEL8XQrxhLssXQuwWQrxn/h57Zk9VQ2Pk4kyQ+LlAfDqL8sxiIBH456WUn5JSXm2+/i5QJaW8FKgyX2tonLcYShIfTcSXbKCxZ1Fa12I5Sjo7BzYgnQuD2ZnAYCSUpcCT5t9PAjcO/nQ0NEY3hoLEh5L4zjT6GmjsjpHqanj44agdcCCTkKNpMDvbSJXAJfBfQojfCiFKzGUTpZTHAMzfCRv1CSFKhBBvCCHeOBEMDv6MNTRGOAZL4kNFfKlgMJFtKgPNYLMoR9NgNhxI1Ub4GSnlUSFEAbBbCPFOqgeQUm4FtgJcPX36eX67Nc4XDNZiaBGfVfsDhp689+1TJGjt1yLHjAxl3Uv1HCF5nZJkWZSpXouuhdI3UorApZRHzd/1wA5gLlAnhJgMYP7u3T5bQ+M8xmAi8TOdPj5UkW1fEXYqWZSpPAHoWijJ0S+BCyFyhBBu62/gC8BbwC7gDnO1O4CdZ+okNTRGK06HxM9G+vhQyTR9DTT9ZVG+/npq2vZoq4VyNidcU5FQJgI7hPqPOoFnpJS/EkLUANuEEHcCh4BlZ+40NTRGLwYqpyQjPhja9PHByjTxA429Vre1r2RZlNB73UR1vpMd471df+Kql1/gvsyKmPNtdxfw4tqawd2YQWCwstRA0S+BSyk/BK5MsPwUUDj0p6Shce5hoCR+NtLHh0KfTmWgSZZFmYq2newYV738AhlZgk7XhJh9ZwWGT8kdjuYTuhaKhsYQIv5Lan99OpF4X68Hg1Si51SON5iBJtUngETHuC+zohd5DzeGY8JVE7iGxsMPQyDQe7nbrQToFLF132UEOtMi3YGs/p3ujO5IV5+RUgBrKGWa0x1oBvIEMFpqoZwN95AdmsA1NAIBcLkSL08RUkKgMw1/9UxAtXizN18eTCR+pjCcVf6G6glgILjx4TkJJZah1M0HK0sNFJrANYYfQxQBDymOH4eeHigrS+mc7M2V/dUzI0Rub75sh0Xi3/3qB4jrorNbZ7tJ70Aj274kooEe92xM1NqRFainI4HsMlS6+XAMSprANYYfQxABDxUsy5cIhUAIZI46r8gXr49zskjcIm/ou9ly2bIP+G7llaxjX8SiYDkWrr125MkEg3VYxEfAHtQ+OmpUBDyQJ4B2dwFZgfpeA0ibK2FC+FnBcAxKmsA1NExsDXrY3X4t89LfZI18CID1LcUc6LqKRVmvU+Ly97m9pXnb4dszOyGJW5LLxVO68Pqv5otvfwAXX0JNDcyZA7t3Q2bmmbGenQ6GwmGRSgScKsm9uLYm+YCyL/a+DdVTQyo427KUJnCN1DASZY4hhJTQEnKxv+sq9nddBbIZJGwMfhOAeelvqi8mJLwXUoKPUvzumRHZxNLAIS4Sf/hhRCCAV4Jsv5eNsoRfvjmJ/DcPc3fmk/ALeL5rCUtz9yKvXT0iIvGRltKe6oBiJ3lruy2B23AZbXzdteOMnNvZnHDVBK6RGkaQzDHkcLsRgQBrjHJI62Rj5938sxmB59PMKtdPWJNbESujxN0LAbhPnsJTGNW8LU3cndEd+yU2txfAGtdT+A8vBaCBfLZ33wgOg5vcr1DKBirF6jN66anALn14JHyu5ecAhB1OFi785LAMMKnWYbGTvMck7x1t13NT9itnfb7hTEATuMa5j/6eHswnCAGskeD/fjoNhwUImGicjCXvPlCS+RRy4eUxj899aeBSgi9QjAAKqKeBfI6HxjOJk9zjfhrRelpXO+SwpA8reg07FG0YoZ4z6rDoD/1Z9uJJfn7rLzFCPSxPf4FvUYFh3t92d8GoJXNN4BrDD7c7OcEOBVJ8epAS1u+eTX0gS7G5hLqecaw/+XXWZP5YfcGTnauJVB+fpQTf0SL8oRsoQmnrG1lNA/k4Qz1sObmM0swfD+AizyykPXrNeoV7cp/m8ZM38lj1FUgJixYNj4zSl2XPXs62uhoaJ30SgD9+9gru6nqwz8nYs6mbDwaawDWGHyNAQ7fIe2PVbBDwLzf/HwAbq2azUXwHFnyJNYvMaDreWngaEALc4WaKjO0Qhko8rGIDGE4OhOewrX0xaT3tjBshxCEEuIw2pjmOYtVmui+zgt/NeZDaWlWYqr8JV8s5kmj5QNGfZS89Hbq6oLAQqqrUskBAXcdbb0Fjo1qWSDt//fWzW89kMNAErqGB+qLmZnZzzcV1zJtRz5pFByPvHagt6KVjD0VEVmI8jjQcVITvwEMlXnzgSAdC+HIfoqepHfH6vl6sEX/scBgMI/n7Q4Xbc3YQCGXzYvv1CAGlYgMAJ0/GNnBIhqEsMtWfZa+zEw4cgHffhaYmGDNGnd/Yser12LHq/XjtHGJ1c2sAOHAA5s2L3uuREpFrAtdIDUMtc5xJV0v8vpuaoLkZHA6YNCnpZiXz36H4WpXybn051yw6yNbXLyPYmRatkOdy4ztxO24RpCTzqdhzTwXWvZQSEQ5RQgUS0+ESDgESryhHTHczY/tKymw+8Xjr3GuvqYhy9uyohW0g0eJApAIh4N7cpxECdrRdz85QIadqhs+J0pdlz/Lz792rSFdKRcAWIVvlbC3Yz98i8r171bpCwNSpsGCBem1F9yMhItcErpEahlrmOJOulvh9W+QdCvW7aSISCsanyM/1R1PkbZOWKcO6l2VlkfOM2UUwiFi3DoBazLR79iGvnd8rOnzrLXjH7I/12c8qgknVm51qYk689FEqNrAzVBiZzExG3mdDR04252DXvu1auBCxsooFu3ZuXycYBKdTxQCPPqqkFyuKP1MVBgcCTeAa5z4s8pZSfSMtpBAx95siv26IniSOH48OMFJGdXa3m9rNREh84ULFrHbr3GWXKWIxOT+liLgvH/WcObaMVAE7ympioto9e+CUzfmRyIlytutiJ7o+a4LTOq89e6LE3Fe6O6h1rI9HMAj19XDsmBpvhRg5Ld00gWuc+7Bkk2AwynIDQJ8p8oN5krDLUj09UTZwOqP7NN+PFMAySdxunbvnntjLSoW8k/mox49Xv62JvMJCqFu7gTEdxwnioqbnKg6Fp7EifRd3TtjJfXNretX6GI662PHX19cEZ1/aOcRuW1ioxtLWViXFWKQ+EsgbNIFraPSLPlPkB7Nje4Ruk1MiiCuoVesq4/DTWfzkhfthwnciq23ZEkuKfXmz4yNjKyIVQh1+xgxFXpZM8O67YDQvoCC9kbrQBKY5j7IkvYq7cl8kK3giaQOH9HQ1cWgfHMaMUcvPNPH1N8HZX7q7ta11b1wu6OhQBB4IKBIfTv+7HZrANTT6gEXelubdK0XeSq8/EzALalnELiVsCxfzfNMNzB3/AYXFl7Bli9LAL7tMReKWPAC9CSY+Mi4sVOTf2go5OdH1rD6ZgYAaQ8bL8ciQk5tyXuEe99NA37U+pFSTfI2N6qHHNmdLV9fZ0Y37I+m+/Prz5yuyttwn+fnKeTJmjLoma2CC4SdxTeAaw4MzmbwzhPsWAtx7d+Fpd+Kt+jFiryJtOu7FvbfnrH55hQC3EeSOrOfYfPBuFv1mH7NmKUF51ixFMn1Vv7NHogcOqCiyra03+c+Zo9Zxu9X7BcZJpHCq7NAE15voOIWFKnqvq1MDBMC0aWr52bpng6lJYhjqHs6bF7UlWhG53YVypq4l1UFu2Ah8uGdvNYYZA5ngG6jlcIgdMyVsRY53IUTUMeJ1PYVoDfa94RlAicuPlEHW/Ns0pYkv24f86/kxka1FNPt6W8hj3BmGAdnZirwt8pcSamvVutYtrw+PZ4LRxH8cXYRX+qJRrAzhKZveqyGClOr4TU1q/9Z42tSklp9u1Hq2syPtUXy8k+VMHjvRBDBcMDHRusNC4IlaTWloJMUIKKSVNJobqmg/0X6kVBOaSc6ldvPLXHTfl7l61gfUnLoEiE7Y1dQknjC0uzNcrijZWpE5wIkTSgMXAi68EIy3TlLgaOTZ7q+CA1YbmxACjBB0uCb0yq60NGgreUYIdXljxpx+1DpcrpZ4ySWZBDNUSDYBDGPzE61/Vgm8LpDdS1PUkbjGsGMwSUVDFe0n2k+iic34zZZ/wHf8V1J45QdUV18S0a5nzEisTR8v28AHLQtYkb6L+zIreKSjmOd2LGHODj935z5DZ6eHv5Euck4FaZUuvil38ljebYzpOE63COEKt+KgByPUDUD+kYORSByUZ3xHWQ2dnUovnjdPncfxsg28eGQBn3xvF0W/iBYHS6Wd2XC7Ws4mkrmDoLEh0fpnlcAbWjOY8/BNQPJWUxoaZx0jIMJPiH6ie6spxCVTu9jz+/HkjQ0QkG5aW+Gii9Sq8V1wnm76Ih6OsarnEZrdl3OX60WcR1vJC50ip+U436I8Qoghw0ln63gmrVM1yb/x3el0uifQwGzyjxy0VSUk0qghK1AficAt8hYCSimHXEmGIWK6yafSziwZqZ0pL3aipxbrPJKtM5THta73wAH7MY7WJdomZQIXQjiAN4AjUsrFQogZQCWQD/wOuF1K2ZXq/jR5a5zrTSIGjX7ugeVP/98PCni/fiqHGtJId4TIdjt47z3IyoJb47rgFDf/lJDhxBHuie5D+nDQRY8jO7KeBByh6Dr236kgkQvkHlfiSdBUYNfuLZwJ8k4k1Wzdqt4rKTlz8k1844ndu9VXwzCs2GLwGvgq4G0g13z970C5lLJSCPEocCewJdWdJWs1pXEeoa/I1yL35mZlp2uwPUE6HOqnH3lhIEg4QWa9sCLh5uZoOAZqg7KyM1O/xX7sPvYtJXT2OAh0ppGX2U1rh2BadiN//vN4hFB2uHgMxp2R7BziX1uR5ECO09ck5dno9p5Iqtm9Gz78UB1j925VNneo5Rv7ca17aXnzP/959frQoUFo4EKIqcCXge8DXiGEABYAt5qrPAk8RD8Enp/TSc3aHclbTWloWLDIvbnZPhUfRU/PkNUL39rxdQLhcXjdFZFD+QLFuLtOUQJRAr333t7f1uZm9WPH6ZBxqjJO3L6FhIzARNyMpTuUTXoa/OnoGD55wUlmzRqPONznpQ8I9pooQoYwQlARvpMWI49/kLtPKzrNbj6Op2w6P+3wEJQu7stU/4M2VwH3za2JNHjesydaEdDSwA8cUPsYKhJPJtUUFqrfNTXqB4ZWvok/bjColi1YoAYMgOefH5wGvgH4R8D6xowDmqSUPebrj4EpiU9OlID6HlyYn6/0sMKDvPruZN48NE6Tt0b/SEuL/h0KwZQp6lM+BDKLlBCQLvxtSwDwuivwBYrxty3B49geG2ElcYXQ0xP7uj8yTkTwDQ2xTxl23HOPOu7mzdF9Hz+O7Anhk6X8RU5hLf/Kj0KraJZ5kJbFR0fTyPjlezzSUUyGEEPS/9E+2egpm05b9gTqgpeyo+162gMF3O16mkc6ilOKTiNRugzRnjOBhtBEXmy/nm6Zwz2up3nixNLIfgAOHVLOGMtHbvnMDx0aWhklkVRjkWiNba51qOUb+3Gtj05sk4zT1MCFEIuBeinlb4UQn7MWJ1hVJliGlHIrsBVgWv7lUkoor5rN0cYcPjfv2Dk1g6wxPBiMP1gI8Pb8AHra8TcV4W+6AQCPeAqv3IwQm4f+hOMJ/vjxvtd3OqODhBXxh0KqDyfNXEQtrzOfcBi6cZDW3caFxmHyGo/ynPH3LM3YG7knYYcTI9SDkCEygyfUPZAhpDAwQrEDkZChpM0WHmMFXafCrM7YQJqjle2BJWxtvgXDEFyTIDq1R+9PN36ZIDmUUo6QIfKPHCRHHucS3mFH2/XsaLseI9QTU6P7wgsVuVmWR8tnHj9Q9PdZSOV1vFSze3fv6z8T8s3pSESpROCfAZYIIb4EZKI08A3AGCGE04zCpwJH+9uR3YVy6zztQtHoA/aItI8ysFv3XUagMy3yWbJsqq70blZcF80x6LPOtduFN2c7/rqvR5Z5J25HtJ6mxp5IVukLKZS5jcB6CjDT7O+Sj/NzFrOXQhaIXzNfvsb3xYP8MXw5h5jGN8KP882mDWSZHR86XKpald2+F+9UsZDM4icltMpsXuxcAMC3Mir4Ucc3aZBjGEsgYbaltR8poaH0e2wL3Uxr9gU80PJdfMLLs3IZRTzL+/KyyLaJanT35ULZt0/VLLEiVykV+WZmKjmnPy95oiJYu3dH9WhL0oivXjgUGnhfxbfsHv149EvgUsoyoAzAjMC/LaW8TQixHfgqyolyB7BzICetyVujT5tcQ0Ni7dsGy0YXU6t7z2w27Z3FFVNPUXztO5HuKX0ljlmatx2+QLFqqnA61yUl0uFUn+/ubvUa87G1rEyFjsFgn80lUoUhYLF8CYCjcgrPcgtdMg23CJJHC74tbi5euZ+CXCd3liU0Mgy4U44QMKbzOAXpjVR238wjXXfRIPNIFz04wt1UVSmJw94lyL7tfZkVdMscdrRdz8/D85FCsFxsR4ZjyTA+ArVLG1LGviclvP22mnAERbQW+V58saqVnoqX3F7ISgi1n9pa9b41MPRVruB0ngbtx01UfKuv7YXs4wvS+0ARAl8shLiYqI3wTeBrUsrOvrbPyfiUvHySeh7RPnCNPrFiRfL3DEN9qvPykE3N+GQpfuM2QH1hLjCOccyYgmdJa0zxqUSfOSnBd897+OUteMSzeEW52p/1esul0fXvvTf5Of042oB4692/I2Dk4TU2ILq7kAh8eHHTQsmFr8CRI2rFKea00ZEjfUfh6elKQpk2DT76KOEqYWCueIM6WUCDGMcnHO9jyDCem9rxLjzIxSu/TEFaI3f6ZiU/ToqQEk6Vfo9ne26mtmcq7TITB2E+kfYhU+QRDk5aRH5+tEtQPDxl02nPmcAX6p7C2dUeIfDt4a/y92P2cY/bbJg84UHmzlUk1tGhtq2pMQfugCJmu7Vv927VRUfKaGwQPxloj2wh8WRkfKQeDqvtrEjeugfx3DXYbNH41nj21ytWiN9KKa+O3ybBGJkcUspXpZSLzb8/lFLOlVLOlFIu64+8IepC8cx9H3/1THx7ZvcVYGmczzAMRVz2HwtTpyryc7mUhi3KwWGAw0A4DXZOuhuPYzv+6pnMefimpOQNZpo3ATyO7XidmxBOB17nJjyO7bgJxK4/dSrk5fX+mTo1soqUEMCNP7QMX89KJOCjFD9FBHAP7vOeJLFIHcNLnZxIA/nkG03cmrOLorTnI9+zDze9TH33WNbdfyRynjH7GMB5CaFkk0mOE3TITMI46CKdDpnB09l3kZ8PH38c7ZPZ63yl6nAPIIVASElN+GpuoZJSsYGs1hPcOWEnc+eqf3tHh4qkq6pUoS1rYvPDDxVpW2S6aJEi67Y2VUSrrS1K3vYEGTv6qti4Z0+01EBNTez1xD8cSqnO076dNVgkuw927NunjmOtZx13376+tzurmZgT3W2R5AOgV6NYDY0IwmFV8i0RrAgWkKEQPrwxb5cHiynNKMfPysiyvp72SkQFYRGVPISUlPIDFd2UmfbbOAtgskdlIcA75icg8/C33Y6/6xYQAo+xDa/ciBBTlIe9pyfaHai/b3dPT9T9YnngbdKMDy+VeLiG/cwzasDlprJ9CUWO7RTNeT/yPbOaQqy9t5HP3zR2QJFi/EThIx3FHA9NYLyjkQnGKf7SM41DPRcwK/C/OJsUcSbSh61td4Su56ZsVZ52S+A2drRdz1WOt/Gv+ygqmZjH3LdPlbttbY1G4NOmqVuSmZm6Bm1F6XZY3m57wlGqers92rYwfvzAs0VTKRWQDMNSzMoicU3e5yGGIvvS4QBM+SO0Cj8ePNm7IhbAZ1qX8Kr8dDTlDFvimL0FmpmYszV8J4GwGy8+BCqiLceLmwAlrleUS6SpSUko1vqY6xuGkkgyynBn9VCybob6fLsqItZEQMkpVlLNpEmx3YES3RNzElTm5kW/J01NyLBUWrr5bC0AdyhAEc+yZuxPotsbneRm9VC8KPZ79uGmlxn3rVvY9XwXkJ5SXZFEZFXdcxXdOCkwToGAi5yHqe2ZhoG6yGSkJQSkZxksb3+B+0QFolX12ExztJKeZcRsYw0unZ2Rf3lEPhFCRePXXhtdbmneOTlRCcXqfblwIVRUKD3bisotyaW2NirFWMdNlvVpkWkiwq2pgauvhpMno9ulUj7XOt5f79nArh0L+MB0fJak7eL+qgo6agq4O8m2w1ZOVpP3eYohrDsSkT/w43U/p3IMXBW82jGPP3TNYqXVgKGsHv+OxfDyYbwdhxGG+eELhZBp6QTCbvx4wOHEG/oBPrz4xa14qFSEZjVWAKTDGV0f8DoewdezEn9oGZ525RvH7FpPyGRsKfH1rFQSTaILiRu4pASxtoytFBMIuyjNqVCTsU3N+IQXd56DkmB5VDcXhgpFAZHrRpathd2zIbMbIWInbYWAUz961iRxqK5W0tScOb0nBe0EGp+dWCM/jQiHuTfzJ9yXUYEn+DjvyYsIOZwI2bcFLnfdWqSESvFgZNm4JJN9ds/38eNKFgFlK4zff21trOZtJ2j7vY2/1/GwnkiCwaiebu+nmZGROEofNw7eey92X1u2qFrt113X+zh2vP46XN4ZJGQ4I/e9JyOHClFCSWBr0u10QweNkQnD6J00k0BSKaFCOTzEhZHNFmdV8TmxD+/CaSoaphzc4Da6EV0iGs6FQub7PgD84VvxswzAlDzKleRhQ8z6ePB3e5DArV1PquX3OvhhWhnPymV4bmrFW+3Bd+J2/F23gTMT78frEFL/FHQAACAASURBVJhsZTUuhsgTiGWLLA1DAJd6muiYx+KsKoIypCZXw79C9oQQToeKSMNuKkPLEDIDb0s5vj2zqaxJXu3TIvHMe/6B44e7cI1Nj3k/XlJJRFaTr5zEjBkwbuGD3FX1IG8dgEvHwuzZ2b0IPxkx9/Xafi5VVaqyoT2ybmyMrS0uBFx+OcyYEZVErInLzEz1uSgpMQcfW0ZlYWGshGLXrqdOje3A8+670QqL1rVZ1xkOK6Xrz3+ONsiwuiWBelKId+XYB8mODvhxxzeRhsEEo4ET4XweC97KCtczyD5mKjWBa4xM9KWBxzk2BMR0m18hKpAT3AihIltL0hACaE4kEwi8+PBLT2SJN/QDtd9Dh6KrmcQvUCTux0MtFxHCyWqU5TAs4Wedy3DShbdqsTp2pnKouLN6EFl5SZ9AYmyRzd+klId4VV7J3u4F/L7jMgqo41b8eMV/qEHATObxyvXQDf6mW/BzA+xw4knfhLf6PxGLeuv2lq1y9rRmDh7Oo7mhh6oqRQXJan3ESwolJUTurVV50LIOWlHtQGt/J5tXSE+P1ieHaG3x+P6aiQpoxevbixbFZlTGZjv2thJabdUCAfURs7R9iNXTDUN9PD7xCUXy69apc7nssmi3JPt1WU2jrX1JCUGZgwgLhNEAppjX39yyJnCNkYtEM2AQtd9ZsDdetDYNBqKFpmzYGr6LAHmUig0Y5i7XG/+PA+E5Mev5WKM0bkGv52xr4lACIZwEcDObgxxkFjfKF3ifS1jAXmSOC2GQcgcf+wS//9AtPEMRQkC+bKAAlUmtzsmcWHU4YNIkxJEjeI1N+HuK1Lk6DLzjn0LYBrVIZF94kPIqZaucPKaV4s++TVnllbQ05VBV5aS6Wp2HffKtryxBSEycj1TPITtYD7+M3S5ZclAyC57VvszKurRr9gPtr5lqtqP9eqyBy+2OneDculW5YKwI3tLfZ8yIvQ+zZsWep6XV19ZGtfKFC+Evf4EcWsFQQUKBcYobs1/B7WjrMxdBE7jGyEWy6fcjR2LekwhEU5OSXCZNQh47jgibUXpTE1tlMYFGN6WOTQRw80xoOa+Ka1nMLgKhsWwM3w9IVrGJNfxQaeB4AKlaiMWdkvX+rfhZjY/ZvMWfuYwsOkmjmwXsZae4CcOIDjSi7nhsOrwFk4Qj65kkvum5LxBGSSQTTfKuZyLL2ca2wNcQQkSeRGQohC+0Cqx4rasL38fLI4lI8QlPbx4aR1u3g6ONOQS70jjxyLO4vnU7zU2C3FxFIPFE2leWoCVh2JEdjC1jayFRxmd/LoxUk1z68mFbBbH6uw77/8FO+NZ7lhZuX2ZHfX00TUFKeOstNfjYr6umRs05zJgRlaWkhCudf+SomIL1gRPA17J3QFvv41jQBK5xdpFqCzJLp06EvKgMsTXoIRB24W15CBEKKYLtWYnbaKXE8QSyJ6R82RRBCEodm3i1Zz575QJ+z5UUhOu4hv9lHvtZY7pQvJSDw4mbdoQjPSrlhEKIUCg6cWquf5BZZNGpZA1gJ0swJDF2R0IhpdWbNsCIn9giYUmEbNfvnk0YB3VMBCSf4k0+x2tsZDX7uYb13StZY5RH5RBzQPFQiZf1+Bz/iD9chAxL1sjooCAl+KtnUhfI4lQwg8LLj1BaqBKd8t0h6lokxw93MWlaeoy9bqBZgjc+PIecpiNkN8fWeAk7nJFUfjtSse7FR/h9+bfBNtlaE/WN93cd8VZJ+/bxhF9cHCVjS5KZNk2RtSUnWfLL2LGJrwtiE5MOyllcwVv4c+7iR53FbA8u4UDrLD7vrgEe6H2j0QSucbaRyHGRQPe0k3QEx80otqkJmpvVB1+G8PNFoBkv5aqSoLwBD9FKgl7HJugBv7wFv7wNHJAfaqCAekR6OtsmfhsAcdRh6soyqoHb5fYL1URpCa8gDx1SmjdwI7tIozuy2lJ2spOlGDatfivFynooN1IRupMWqQasXNlMsfwlvo57ce27jKAZKa/i39jPNexhEb+mkP/jKlaxQW0jWhEyDGGJOHwoZkABpd/v52oOMA8pG2Pu74lgJhPd7QAcbcxhzsM38eFJNxLBuptr2P4rN+99PI2qlryIvS6RRNKXtzkrUI8UjkjHHgvxxbLs/29rn/YuNPZj9DfpGT8IWBmZds26szNWN7dfRyKrZG2t8nVb28cTvqWnW26Vz3xG2fPt3evnzVO/f/Ob6Lla+7FH94YB4YLJHHRM5q5rPqKwEMJb4MDHkLNgETynCVxjhCFhIaqyetydpyjpaOotNdjsfDgc5gSenZxvgbZ0POI/8ZqNdwHE5El45Tb8R2+DKVOoC2RR0Pw+wqnK1PoCxXjdFdFjCRGrO1rh8uHDkb8t8l7KTvaygAVUsZOl5uvCKImjhA31FOBB4oRQDxu5D4BVbGD94WVUshTPL37F72Yu54KxrXgPq+h+DjW8z0zayGYNPiRgSJCGA2Eo+cRy4lSYg0QpPuaxn0o8LN0yh8WzDhHoTGPj3tkg1SVMdLdT15LFBJcicyvZ54Dvfxh37y20NPVgp4dUXSOpIn4iz5Ir7F1oBlrxz65ZS6kSfyxY0fOcOYmDBnv0/kj1HJ44sRTZtYSvpO+iozRIKy7unLATTP3e0rGt7Vtb4Y9/VBUgqqrUADJ1qhoAX31VrWf5163Jz/jo3orWDxyIXoM1AD33XOJr1gSuMSyI12UjNUtasvC4X0J2O6M6NkT1Y6sSnwkhVCq9X94SWeYV5agOgNFjWcWq6gJZNLRm8KnwYXZ230Q5pfibboHmZrzyh4q4E0xaRpYLYcodEgPIo0WR99T7MY452Bm+maXyBfJojtSpsFwrEqh03oG0uWsqTT+5Bz+ljT7Kpxeq9Hczu7SOibSTRRbtLGMb17AfLz7Kw6twESCIGzcBiqmIDBKYx3uNz7H3nSv5/aGobLGq8CDehQdZuuULvH18DAAzxgWYMraVypqZVNbM5OKpXYRPHOXUwdwYG2VfVQt3lNX0IsVksKoGQlRCePddeP99ZfmzutAMtOKfXbO2FLmqKiITs+Pj1JtwOBopW4NIdTXc8PETSKeTm9yvcJfrRR4NqkxRTqhGCPEVChcuVJbBP/4Rvv1tdZypU1U9tu9/Xw0OU6eq/Y8dq655/PhY7709un/9dfV3f086oAlc42zDzDpU0TPQcS/+HV/Bv+samDRZ2d/cTyFy4yr1WY4KlyuqLXd3I6WMTaXv6sLHKrw9G1VUbziUrNL8RTz8DFdHiJfCX+AYkymXqyhlPTgM3LRG9W5TKgFTY28MqUEhHIpozm5aKKGCn3E7YcBoywcpMdKc7OxaiiEEECX7Csxqh6bWXUAd9UzkBOOZwEm8pg3R0qo3HlrNKfLJp4FFvMLvuYrdLOIA1/Aa13GUC7iAYxxjMh78QJw/HQ/ScJKf08lEdzsngpnc//m38C48GKnHv+CyIyyefYhgZxrPHJhJfTArIq/8tvx1rlnzd6y7H8o2KxLPCvSemBxz/G2ebvwiDaXfi3TTyW48Qrlcjau7jWLjici6QoZocxXQ2RmdyJszR0WrLS2KSO2Fpyz9PZnObh9MrBT990I3M3fJJyMa+M9/Hk3GmTEjqldnZsLBg+qhato0Va0QVJTcI8djhOAet+rheY/7aQCeCyzh1MNqvYsvjvWc3303rFmjPj7BoDJAPfqoIvX09Kh/3J4MdO21sXKO9Z4ddrdPImgC1xgc+kqNh97v2dwilr3OX7cskrXozfwxQvRTh9uUUyzy9uNRlQOdm/Dl/BP+Jg9kZJv7AnfHKTzyGTXp2OWgOLyZclbhJoCBxGts6HUIK4IMhF34pWry4I04VIpUliYg0tMxenqU8besDFwuDNM7vlVaksZ6WshlI6sIdOeSSyMtjKGN7IjDxEdpxLa4ZtFB1j1/Kel0U0Adu1jKD/Hyz/wrxylgL4Xk04AAJnMUF4GI5GP50yVQHx7HxJb3kc0wQQB7qhCLCshJ6+bWee9TWnhQaa/fe5hXj23hZHgWtJxS51N6mP0TFnPxqQOsu/9IhMTjIXp6CJDHttDNkW46jzYW8SzL+fu8fZxyz46QVGbwBDsfqCH9NeXjtqLv1lZFcpmZsb7sZCVppYwdTCxJJEMIlre/wLiFn4z5qHR1Rfd59dWKFDs71YPc+PHqI7lliyLzjg7okGMYQws/brmNe3OjJL4zUBjZr90HL6UahMaPV+Td2qqmelwuyM1Vv+3RdLIaMdbTQqJJ02TQBH4+4Ex2f+8vNT7+PatJMbHShgVfx73KM93XI7NpuxNHjuCmHU/4WbxTtyHEJLyyAjo7cd+8CDF/GqD6+cm770GkqYxDwwHerqg9sKL7jmhtE0AeOoRPfBs3AbziIaAJvyzCj5JpIg4U8yQtB4nVyEGaCwO48FOEVQ08gJtWw4UMS9rJJps2VrIBARHpozSskmyyHV00hLI4YVoHO8gghBOQdJGGBD7kYiQQxB1J+LD86R9yMa24kNLBp9L+yHUZB9jY8g3+99EOukIO8rK6Ikk35Sdv55iYwsrcJ/G6K1jfUoy/fRmcgA/Ld/K1Jz7HuvuP4DH/lfETmqvlBtqyJ0W66TjowCP8lIhtCJsO3e4uQEpFqI2N0Y9IKBRVxSz3C0QjVXuBLWuy0SOj57IlcBsuo42vu3aQIU/g58EI+c2cqf4tVjblmDGKZNPSICtLxRLNzYq8Qc2df1v46E7P4cX261V07XqaR4O3xXwErcjYbrO0IuyyMkXiHR0wYUKsBbGvzNS+XDLJoAn8fMAQ1h8ZNCzy/viIWXf7BjXpKMrxzX0d/46vQCAj0mA4BvEWRCkpEVuRTgdCmKQuzCjeJG8LvSbhrF0AAcdY/OHlIFUE68MbqQcO4GW9siGaiBC9hIrQnQTIVnJQWILTiS+0GjctMZLGCTERl2jDlevE0dSEmwCr2ECeqV8LwEWA8iqVBr/qxvfh+efYyGp2sZQwBjkoGSlALkeZgpMeLuAoq83jWE8jRfg5wDX8F4s4Gc7nvzqv44Oe6YQl/M+Hk2jpSGfBZUci9abdIognRxUDq2hVA0lR1i7c3ep4fzP9FO//qYvmhhDPchPBcHZEXpASNsr7KWh6DydRpi0V5ZzKvap30o5UJPfnP8PRo+rjYBhQUADt7SqStWBN8iWqy/JIRzF3uV6MVDK8KeuVGEeL5QCxZInqavXROXlSkbc1H259nKRUhJ6bC/cHKuhwTUAIyBFtEQ18efoLjFt7RS//eHzmpsulyLu7W2ne99wTPQdrm0Qk3pfb5+mne68PmsA1hgnC6cAdasXDduUYCUmVhbjjA9zNzYiWj2M3cDqj1fssmJJF/HdhIA4JAREJxR/yRCJhz5hf4XVvA6bg+3gZpEX94D68uAgQwA0hQaXwIHd3AV4OdM+jlosU+QsHXjbiD3sYPzWTupYsJuW2Q9PJyMSoRd7WoLA142uR2uU876MSDwHcBFEDcDdpCMIYhMmijT9wJTeyk53iZty0UiTVoLOI3cxjPxtYTQPjeDd0CQ5CpLV0s8C5h52N92AY6umrJPMpZI7afyDsUqVoe56mWG7CV7oWf9dcPOnPMoljdDYE2JGu2iLe434aX3g1z7KMyaIOaftP+FjDipbKmHttn7xsblZEmpYWJdwJE1Tlgl//WpFgfClWe1T63I4lbKu7GYBpjqMxKedWlJ+RoQYHexmAUAgWL1b7+sUv1KAhhJJarEi3nFJKg+WUig0IAT/t9LDc8QJ3TtjJTvFgLzvh/PnRCVErEs/IUEk8jY2xOna/HXYG6PY5uwR+5EjCAj4a5yG6uymRWxSRWUX11pbhlc2IaVPgeKzbhJ6e2NT4QCDiB4/ASv6x1rXQ3NxnbRXR3YWXH0QKWQF4Wx6CVofS1OUNqlztRLNjfesdTHbUcbRrAp6b2imii40vTqdBPkQ+DaxiE6WUA+ATa5CGk7qWLBrbM7hq+kl2HppDuRkt28kboGT+OxH9fTnbqGMieaiIPUAOYQwMQkykHkGIHKOdP4SvoDzvoYj8Udl8A0X4WYMaACZSx++5KuJV3znpboy4tH4rwrXslP6mZfhZhgil43Hvwut+ioqjK0gL9bC46zl2hm7kxZZCTjCWfBo4xmRuMbaz2tjEhvBKng0tp7vDHakyaEXPlgMjL0/9W9raIDtbvZ49W/1L7Rp4ohyBhQvhgx1R6erT6Qcjckep2BCTcWkRKygyz8mJno9VZl1K+OQn1bHHjIGfsJq35q6ODB6ZQIaEnWb1xEQ6tmEocracLvPnR7M/a2uVD3yoO9nD2SZwhyP2UX44HuE1RgZsfuoIXC6VEg+KvO3ZmKGQ+uzYtfVgsDfJh80Srjatvd9TgV5NIXzhVXjDPtxGkCIq8bq3K3nGXaFcDUaQoEjDX6OaRjSEcsjnFAXU43a04pNrAKgMLcOT+Tz7L/kH3q3L42hjDuVZD1I67ilkYCxuRxrCZbpebLVL1u+ezX5Up5/72MxrXMev+BIhDHJpYaX7SYzuTp4Zv5JLjr+Bv3VJpP74DN6NqdfyATMBQScZZNDJ0pOPszOzKKYdVySj1V2B113BM003UM9EjJCIkHrAfQHPBhZz0RVu3npzGtl56XS1tHONPMBcWUNpWNWX8UofOCBTyF7RszXhFwyqf+ESs2R6VVVU3rBgL8Vqad+WTBEynJzsGYODMGldrSwzXuD5wBJ2OK6nsTpW0ohvUlxdrT4mOTlmAk0YLr00qkNb0Xt8ar0diYj42mvVE0ZNTdRVAuq6rK48o5vANc499JcaH/+eYaiGv+FQTGOGGM+3HWbnGSC2Bkqwj8JQ1jOxJXQmMiVbTpa0dHzd95mp6P6oBm5KKa4kfmZLa/ezkrpAFoBZcErwUvhLHGMyM/gLRTwLIpOavxQwe8oprrv0GO5Xe1Rhq85OMDrB1LateyYE5P56F6voQgKbUJbCdLqYyXvczlM823Y7Re6X8Mx9n9wXf05F+JuRc5vL/7KJ1YRRPvV2ssmgk3xOkkcLezs/w9Ken7EzfFhNZLrcBE6k4e9ajOzsBKnqrjSQTz7NrG8pZk2uInbZ2cnGv3yHsHDS3BwmLy+Lqzrf4fb8Kh5u+7fIZOId4d1kt53Az7/F3LNFi6ISidutXofDcHDnB9Q2TWOh8zX8rrvwBB/n1UOfYdJ7bxD67PyI9m2VdB17+SdxmhHzY42qd+bJ6t5ZnIkmBt97T7V8sxeismyN1oTp6RCtdX1CqEGqqkpdo30wSdT1KGk2cgrQBH4+INX6I6eDAUpgW0vfJpA+TtUuwXSihFfjDjdTEl+6DmJnsCxShujv+Cjd2iYRrL6aoZCqaHjkCMLtwt0QW9vEmnx0ESDYMZFKvooIjMHb+q/4elZSKW+giGdZzzeoa+qigRzyRSMesR3CYfzyFi7gKLVMp5bp0A5XdP+Go02TEe/9guICP765L1Fp9uqUCy/v9YUtYSvSaAaHg0e6VzKORgQhvs7P8I75D4yFX8WVPp9AJ+xxXA/OaE1vkTWWec0HOMA86phENm08INYhBLjCzbyc8RXywoGIRU88sBavBLm7nY17v0NDawb5op5/yVUyUGX7EiVPuCpAwqlgBq7Mbtq7nHS2tPOo/AeeqveQKTq5OecVwmF4NHgbY7vqyLRd09LvqwzH6V1LlHTWAqdKd3HnhJ10pRXyC+cXORKawnVtv0QKuDazhi+JX+JwzI9oyHv3KsIXIkqMlkxhv4eW7hw/MWgYSqr5q7+Kkrq95stgI2S7n9vKBN18YA4/eXkpH3Qt4avpuyj6hZqgb3cX4P1szaAaIWsCPx8wQuYZpIRAxjj8LYtBNuHt2WA6UZbhcWyP2vHOFvLyYN06SlasiGZbQowuLTPzob0Nf5NH1doGiszEmUo8XJP5e+bJ/SCgMnQbRVm78PAr3EaQisavqh2mp7MzfCPlciX+jluoPLQUDoFH/Dvejzcg9uap9RLMCfnCq5kgTiIl1FPARlZCk8S7ZzG+znvZ2HE3yKmsMh5hzZRKU6NfQpH4T2rlRWZVacG3nWqiVogQJeN/idEWBKKTwpb/fPOvZ6nkn5YTrMmtiJCf2wgiBOzvuZpxrk4K3O3UB7IIdjppas+jrieDhc7XWM0GfnSqmJ1dhSzN3csk2/j7xImlbAvdzE3uaC/MbW03wwm4L7OCopw9XF//VGT8fWr8GrLbTvCMVFH8woWxLhVLknn3XfVwZmVF9lVlEAZe22UgsPzcVmzU2gqfbtrJeGcTN7tf4S73i3QK5V/PbKnvtxfmyJrE1DivIQR41xXAnnb8O76G3/F1ALOfZaX6sAoR1bbjI2prEtLWUSepzm2ta4/Gu7tjRdbYsyPySGBf6nbhbVZOEgtr8FFBsYraOzeqhXl5CJmB2whyV7af8mCsv708tJJSxyb8oaLIN9Pr3Kz6ZLpc0b6b5uSrbGzCJ1fjZxkexza8xgbWh1azMXwfG1lFZevXQUCB8xSTuz/CK9cjxJRISzl/twdh9qcUSHw996sqi4ZQ5B339CWl8p9PcJk2kVaD5cc3Mc/xBt7McoSE9SfvZW/4OqbmdFCzdge+PbP5559fjUxz0NNt8NbkRVwhPgIUAU1aeEUMSbpEMNLI2J7h6OpSEtKjwds4FRpDIJxDlmhnS+A2SsUGdu9WtbetgaCtTf1t1RQ5ckSlqluTnqk4Pgbq9kgkc8RvZ3eizJ2rBpS1a6GxaQwybLAi5+leunoqDZT7Qr8ELoTIBPYBGeb6z0kp/1kIMQOoBPKB3wG3SymTtFAxEQrFapdD8QivMaoghEoX9++6JkKy3q5/QjTZVrIa+hIbkUdeJyPtZHp3ZAdSbStltAkE9kqB0abGPrOpcbF8BZ8sjdmN1ewBJMKZriZPc914Dz8EUuJrNP3tlqYe+kf88hZeDV0XUzbWF16tiBdUizQhIpP8orkZdyio9iE3IsKwJqyqDO6lELpVBmcRz7KRldwiK9km1+ALFPNm118jHLAqfQtryqepGjPV34G5X0nYTNwib78p6XgXHmT97tls3FvIflkIZLCGcvZ3X004LGg40sn60sOIjHrSHH9De5eTvKxujh6WXDDNmTSi/Uamn/acCTGkfo/7aTKDJ3iko5gXeq7n8rT3eKv7MoLhHB4LeDhgzGJ/lZoczMyMTgxWVak0+exstWzhwtiszUT9PeP/TvQ6ERLVGd9qtqm0miFbkfehQ4qA09NVKr3LBdnNTQjgjlPrWZT1G+5w74js27pXiRoop4JUIvBOYIGUMiiESAN+I4T4JeAFyqWUlUKIR4E7gS197mnKFHggcVlEjXMIVuan2fU9AiGQuXn4KIVJk1Xo5DDwdX9bNfy1PrShEFvFCpNUf9iLVEvE49H9Wrq2fbIzGQxDySY2qUJKehWBsifErG8pplLeoFL15Q/xsSaS1ONlfXTfa9ciTF+6O+jEE/4V3paNCGc6pd3reZXP8gd5BSsdP8YVauQlsYRnQstBhCkNb6M8rFL7S478JHIPStiqBq2pyqUiDx+hU2bQSQZ1TGQidexDtWXfzzyuPv5zhIC/zXiTeelvssb4MUKsi3T5sSoOxkMI9Z5F3pacAnCgtoDK/1tMpWMJGPBA7mYANrWU0NCRz1jqWctGXm+/jr0sIHz4GOONRpq/5efu3Gci+wfIaTpCZvAkTZMujzm2EJDfcZSv8SSrezawgdVslPdTLwvYG55PNqrf5cUXR7M0LcIzjNj0ezvZWv9fS1OG5A0fkunNyeqM19YSqRke34bu85+Hxx5T/TAvuwxeC/wtt3Q+xeudqjD57Tk7IoONvQCXhYFUYeyXwKWUKltXIc38kcAC4FZz+ZPAQ/RH4BrnB6zMz+bmmMbEsiekNO/AYjyF7+OtWqxeN90CYQOvsQHRowpUBcgxU9fDlOKL+KY9+AlLGbXAJZu4tIdc6elqPVPzjl9NRdMiUgQKounyFS0rzCg4doLTbas/Eo8Sl19Fdua8sWHA4tDLfM7xG0rFBsq5j2NM5gJxDJcMUB4s5hlu4Fb8qkysABkKI6zUmGBQpbyzmmNcwAL2cpTJ1DGRt7mcBVRxhAsQYXWvt+UoaUrkRl0tiSLvmHM2/ef26Ngi8TnfMjsidHfz7Z6HAHiEr5FPAxDidbO41kw+YCbvcjI8nh9xN+3hAiTgdihnSnbz8YQ1wQGKjScixy+VG6iUy2lkrLrX7gxWrIiuu2ePOeiYbc7siTLJNOU5Zsc8q5hVqnpzMpljwYLo/qx92qWPWbPUsqYmWBD8OWHDybUZ1SzK+k0v8k61S1AipKSBC1Wb87fATOBHwAdAk5TS+m98DCSsdiOEKEGVo+DC/PxUDqdxjsKaDPOkP686xu9VzYZpblbVAE1twU6Um7ifDaxmInV4qDTJfE2kGmCvA/QXhdthr4yYJF2+JO2nyK4u2wSnxMv6KHknSw4SRF0zUrLCqEBKEb02w4k/vJwK7uJEYBJX8DtK8SFEupI0HP9PReTyMbNDLri9b1PU5sdLOXOpjvTJzKBTDWhmr1Df3JdU1B2nt/aHROv49syOvpCS9UL52ydwkjBwgon8hs/wGf6H+bzOZu6jByef5g3e6JrN4dAF3JSt0tzDDieOnk4ygydijtHuLgCgwzVB1TZpuY1jwanIsCrWEgioSHfhwr4LPi1c2LembF3jQPXmRDKH9SRgb5Bs38911ylf+Lp16rqNUA/bcr6OIYiEw+25BQPudhSPlAhcShkCPiWEGAPsAC5PtFqSbbcCWwGunj59AN8ujXMRKjoNIoSKhIUw63fHtVATQCk+MxVcDfzRSLwID/5oizKIatsW7H9bJNvQEHsy5pOCbGjonciD16xe2NUr0o68FkJNivYkjiqZNKlXEwjrtzekMj8lEA5JjnEBPryskY/gC6/GH15Okdim6q2YjS9c8m1TSiqljokYhGjBTRWFPMD3tchNxgAAHr5JREFUWbP2E6zfPTumxrp1mv0iruCZlOBr+iZ++Td4xM/wyg2sZxUbw6sB1YhiDT7W42Ujq/k9V3IMVY/G6ZAcC02moz2L5WOik5ZNky4nM3gC/7qPeh3eUzY9Qt6PBW8FJP+Y+yhpXa2sFw9GsilTIby+NOXT0ZvjZQ5LOrG/tj8J2DVxgMZJqjriXXM/6t1AGXo9+Qy1Bm47UdkkhHgVuAYYI4RwmlH4VODoQPalcf4iFQeARFBOaaTcagP5TOcjCqjjVptnO9Vsy2Sw6nvH9JS0JfJ4jY0IpyOx48UwooNDWZkaIMxBIjK4mOQt09Kjqk5Xlxow0tNVbXDZSHd3GhtZTWW3WUxKVEJYTbBabdYmdX2B3zMr0sRhNgf5DZ8xW0sItpbVQvthigS4fxGEqqfwddyLO6uHknUz+r4RcQXPBOBuCijtX2xAOB2s6fJxgGsAIv1D15hPSptZGalzLox0CEGaQ3Jj038gcpM5f2IhBLgcbXw6/SCfTj/IvblqgvPNBQ9SW6smMfuzAPalKVt/J3ovGWHGyxwZGfCHP0TJecECtW1tbXRgKCyEurUb+KBlASvSd3FfZgWPdBTz3I4lzKray6R1q3u5UeLvQ6pIxYUyAeg2yTsLWAj8O/Br4KsoJ8odwM7UD6uhQWyCkS2KlagaIn6K8BjbKA39gOkcionEBQzsk27NliVYHN+kOEbntrsXzIbEYLpGzGQgQJGfSd72/peRCdjwauVqMZ6IDhjZuyL1SzY030E9E8HhYKJxErLzqGxfgsexndJCFUn7d02hNZRDG1m4CHCMyTzI9wGBmyDBjglUhpdRlLWL4tyn8AVK8YeW4GnfnlTj7QslxuNqO6fVKxS2sVzdN2IfuSdwIiKpEHYwkaM4HWFeTL+VGw89wwUXpkbiX3ft4PacHZH/jZVoY722/7YQT96JJBbrgSxZk+JUyrxaCTrNzSoNv6BAvW/vMm8V0BrbeZyl7qqI7/su14t0B3IY21k3JH5zC6lE4JOBJ00d3AC2SSlfEkL8CagUQnwPeBN4oq+dALqY1bmIRLXGbZFor6jVZt9L+L8vK0O4XLiDDjzhX1LqqqQ8+K8UtJyC3LEYxhjK2x/EO/4pxNEjynwbp3vH2A+FQDrT1JcmidRRkv6kaeOLElUk8u4KsTX0zWi9cLO7vA8v7mAaJfxQ7eS46sAexuZqkQalZhOIytAy1Tkn1IXLGjDczykJyV3Bay2f4r/l39EQGkNDaAwbW77BqoxH8U74T4SxltLCg/irb+KSQx/yJy5XkS7gFRsjRCcz80Bm4G9bQmW7KjLiyd6FV/w4IlkNFEIQqb/OkSNqEAupe9KMG4FKaLoFP69xHbVcjCvcTpGxHRzpVHZ9hbS0dm4/9Dhj8h0RvTse7e6CpO3ablqXvJWbvVytnWyT1dQ+Hb3ZHvXbNfZTp9RPvMYOyS2TWa2x5QUGi1RcKH8Arkqw/ENg7oCOpotZnXtIVGvcqhA4JW5eOxjsXRIWYgeB5mZoaqKE/4+wFJR3luHvWsyteS9R+nAB5VWzozXD5UOIOJPvVsc9BEJZimzT06Op+gQo4bHE12B2BwIUEff0RAhfkshmaD4dhH8VjWxDITPyzqXUjOCfkbfyPVTA8gAPq0QaVAMGFwHE0SPKXSJLOcZk1maV4x+/kvpAFg1tBfDlL8GiaTy27zJeOngh9YFMWrgUEHwoLiVPBFgqX2RxeBcrqEA0NuDlnyIZowhViMreVCFlHD8eHXytpwxTRpLCYDeL2M81zOMARcZ2pGss/x2YzzTxMbffGCA368sUX/sOYk877owF/JIFrNt+CWXrEnf2sYg4vlVaVqCenKYjhJwZMfZD6714pCKxnI7eHL9NKjr6YKSRVKEzMTWGH/ZBwDYYGMEg7i8uwtPZjndhQcQOR5XqXC+sh3hLZwYCoawo2XaZZCuW4zG29U7VT1QjxqqyZJ6TOHTIJN7eNsPSpg2RbEcJtOCm0nSylLKeDaymFReYPXnArrdHLYPuUCtF4UqQmQgBBWZfygO1BYTD8NLBC9n7zhRcGd104iDXaCUoc+gggz3y80A4Ulfcx5rotUiJL1CsJokT3Xf7wGl/aoqHNVFsuWpy85jX8Qf2d32GA/wdteKvqG8drwpZpT2Ld9G0iFUufiJ13f3w3U1TkpJZor6bfdkPE6Ev4hwsqQ7Wtz3U0ASuMbRIFLlB76evFJHIn+xdV4AQBVA2JoZ07Pp1L093uByRFvdx70u+s0l9lnXQbjN0EaB8zL9Q2vwQRpojMpk5g1r8FLGBVTSQz0TqzIqCq6ikCIGtJVtYEWOx3Mp6uZrK8LKYTMjKmpls2DubL89SPTb/8PE4OoUkEM4hnW4yZAcL2c9iXkIg8FEa6dcZmYxt8oBo+v/bO/cgueoqj39OzyS8pgkGkpAHT8FXVVQoNlKFsFtAVoxIdClcxt0Vdy3GRQ2PxlozsWp1a2sT3K2dgKOrGwpKQJ0IKpWs0SpJahV3XRMeAkFBCA5C3pGQpDsJTGbm7B/3/npu37k9fbv7dt/umfOp6uruX9++9/Svu7/33PM7v/Mjt7zX68Ng2DJ44iwn3lAaBlNFTs5ye/YB2AdfOtrLfrzV7f/phFXc7od8HHf/wsugyV25tfhd9n62iyXXz4hVrKmVSCJvO2lMwI1kCf7ZoyoF1kA1XpMT8QG6/Qk8o+S+/jZEapxj1tHhrWw/eiv7RmYxSoY57OVHXM3OA/P4Ge/m6qEfUSBbjAX/iov9Uqz7+QNn0pf5B76kX4JMB7NHdpKb9jVPvP0QkwAn/3GE7iWHS2ZCuhmSPZc9T8+lz7No1UeZ1QXP7T6Bc2cfJpM5nnWHPkkmfxA6ppEdKowfjJUM2cwRJOsLdbmwZWCAtqTSo6vc6CgUvBOAAo8shP8KDE4u8UI+DlXI+xk04HnjhaFpZGdk+PHag1x66Yy6BO/Eg7vp7j1rXHs4Np4UlWLswc8yUUw/SUzAjfYlmx3nOboBxiB9vXvJsXq8WMQYRHcx9IHRj/Fu2cpOPZ257GQX8zjKCWziCp7iAuawx6tSKBkyGWEmB5mTeZ2+Y7ejXVlmHj5AhlEvzBGogeLoOf5+r6zsqsDkIlfJ78feMl9kKdYe31c4gdnZo6x+8zPkdJU36Wj6t/yrFW/5N+noIDfvQe9zuysj1bGriwMHPEF2g5QxUfUWnLhr00KvcmH2KHvyJ3DXJm/Sjzv5FENewMCW84pCfvPlz9I1/Rh33PzWsqvdx0F0ZFy4BaJj40kRt5JhpRNIONbvqPbkk6m8SYK4YlbuZsWs2p9stvQ7DWaEuNxpJxxJf98h8XXi7WLMjw29h+6RBxh4/Sr6Xv8k6uK8+/d7g6Xbt0fvN4B0dpAdPUg3a1mnH+bjDLCTeexhDoc5iVPZXwyTAKzVv+Tm6f/JH7ILub7zIe7iVr6a/1tu7vwGL5/8HrplLQMj13lLrUXN/ndhja4uJNuFntTllRs4dDVzTznM7MLvuXx0I3Py25i363G+e3QpfaO3oEPH4Ngx5NjQWG76yIiXqbN7t9c2MuJl7Rw8WHGZuUpsHpwNArdcvpXHVjzMLZd7Mz83D5Z6mEERd+Su3Mqn//R5eq97iVXLdlCJ0Y5OREc4vrCv5KbSUfG9jSCJwUkX6w/fqj35NNcDt2JWk4+wB+sXdBqHu/SOop4FJzIZr97K0BAiQlYnyukOpCJ0+HHrm24av8/OTpg7tyimPfh51Acz5Dq+xsCxbmaxh31+QSnwwiCbudhbfm312xBZxe0Km9e8CcDne85AZBW5zy2DYciOFpAd20uPGYEIZPM76R79Nl0vjlAY7uA27mQ1t9GVOUyhI0t2JO8N6IbnOYuULoLhpgiGQyXucTjM5Z6HKoiKwOJ37uB95+wtetuubsrJx5cWzHKVDoP0bVxYjIl/5Cc9DH26wIyZnk0nHtzNSQd2oNLBkRnelcEbXadFeqZR4ZOphoVQjHSIyh+H6ucGdHaO5Xer0sPdZRdnKMlBOeYt8FtcQzPI0JBnW8AWAXR5L316G3rAm7Cyn5m8l1+zjqXFYlvvYyy/TAQe7NlUfAx49cVPesh/vmDsmBMsEdfDGlRAZs1Ht+9AOjvI6VeR0RF0np/RUfDrDLmT544dpWMQUThBn2h5unI2lSl+FSXewTK17jl4nvhs9rFv5iwGXz+OuWdMK4ZEyk25n4zYkmpGc4gjunG96aj8cddeDc5TdsuZ+xNxiuIE0Sl0lYpeBRdQ9jfve+MzDIxcw8e5jy7y3kAm81hNrpj7nZXDyIreYp/EyQ8GvJBGb6/3OVwePRRFODwLsdysxJL3hSs1hpXB1XFZtWr8lZM7AbjFpB2BPqkUSnCDsMEyteHStqowK3uUWV1HeebVUzh9wbRU0vHS4v7CRymMnlisF2NLqhmNI47oNmNmbfBE4oTbLZQIJeJdQjWVCt0Cyr2eGMuKFWSl4M1sHPI8+hu5m9V+jfIMvqef6YCu+dWfiFTHSvAmkb0THJgsFLx+CodpXA318InDHd+9HkwHVfX6P+b3HJkG6ov5mkffQf6Nz5Druh8RWLjgAJ9/9WbmzXyDHtaU7CfKS21WpkejUIXC6Ik8fOQDgDdT82tv3GhLqhk+SYUp0iTqMzgxOv300iyUoKdZL0443aBnby89bxxAj3UWPfqiaPvPE3Ecg54zjH2Wzs6xTJLg685TrpRj71+dlOD27QY0HSMj3j7d6+ETSpUnpyjPvJhiOOTPqs3eTV/+Rn4+fTF/uv8R9C1j20etiLNxI/zi/Y+1XS65w518bpM7mdZxmO/nr2Fd/gpGOzqTXVLNaGOSClOkSbmp+nVWIayari4oFJDhYW/gdNStNxliZKTUe4ex8JEL9YRDJEFvOZzS5+LTXV3efqOuLoaHS48RJpuFbBY9lC/1Yvfv9wZ23UkjuO9g/w4Nea+VXU+0eorhlA2vMnDkOgaOBGq3zLmbHa96x49aEafahX9bkeCA7KkKr60ce61h5WQNoy2ZPr3mdLnYBMUvGDt2ixW7bYKebkeHJ76FwsT/WDeuoFq68KMT/3CGT/iqJZ9nzRufIH/cqeRWzi6a2nfTC2QzR+jhnvJhp/BnSxARyM16gIEd1xbbcrIaOQwLzsqyatkOevvnx1r4t56BwDRp+JJqhtEQ6kkdrJXwv73amHgtXr/zbMET3IjqiRVx4lwuRTNM6KpFFfKjpzJw6GrYeHQsG0QvpNulSDrv2p3ogie9oFdeKbOlClShb9EAbBmbzONWExKBQTZwzrIPFUW8XAGpciGWuAOBadG0JdUMA0hWdGuJwYdjwDsqTwIBxgsReOGAarzyUGy6pGQtoP5ScMXjlfvnBU8eTsxdSMhNLBLx1u+E6vrWed6hMI10dJCbcze8+SYDW24upvF1y1fIZfqjTT399NJUxOCU+hrSDsPESTEUgcH+DZz9uQ/xJ0tLZ2zGWQez1UMs1UzNL4cJuBGftAc+nQdYixcbtS+HqwMSU9CLCzb4A5jF+uDkvXU63SLKlQgPEgYFMqrsbiWCi0mHBh5FIHf8fzDAzcXmnNyJRKTBFwmnIjrhTuAqKU6KoTvssqWvsOIHs7jm2ulVr4PZquLtiDs1vxwm4JOZNMIUSRP8DKqeoGQyY/HfwJqTDcUXMq8++MnFyoReffAcA/JxuvW7nmfuTgSvvBK5j5rtdemAYVx6oJsiHzGr0uWxE/jq+2Z8eXyNmGC6YTgVsZaTygRMlGLocEK/8ton6F93JosXz4/0UmtZ67JVqGdqvgn4ZCZtjzkJgp8hKgZ8xhnjxcVtFwwBOFENTid3Ihc1jfzMM8f26/b3yiuICDntAzRUsnZtSUrhOCaKuccN5fg1UsbhPGNVT3yDcXe88E5f/kYGhq4OhSs+DYuuKBVNF4YJh0ncST/h1NQ44uWE/vbFW0ti4kEvvZVqdDcTE/CpQCPzwZuZa+48zHqISpOLwnnPN93khWyccPqx7mLJWp/cggeRnRElWSt53UEVSorQyUKA7NBrdJ/8o9KFMSgNVwCVv7OUUlOdjYP9YwOb0Jo1upuJCfhUoJF/umb+oZ2HGabMWpeRuPj0/PljIh0lotOnjz0eGvI80kwGRLxwhN4GjAllX/5Gb4m3iY7r9hX+TEkTztceHqZn9TsrhivahaCIJzEQ2M6YgBvJElV3GuJ55MuWRYtxZyf090fPJoTy/9LwrEYYE9Dw9PCJyGSKoRQ9qcsLRxy5xpt0cvif6RtexkD+r0EPkBu+0zMn6thh25IeJKzQP/XEWluNoIjXOxDYzpiAG8niMkUmKIJUluHhiT3sGTMmjgGHCQ7ClRtQhPLecZhsFsnnvXBEx0Peau/ZLnJd34dF15L98QhyWiDdrVKaY9C+4Lb5fOkszrihqGr7p1E0KawW9sSDTAXxBhNwYzJSLvumHHEHEX3x6cF5fN7AqQA53Yo89jDky4hl8IQRpS6umFWY4OeolFXUKllHTQyrhWPiUw0TcCM+5QpL1bAsV0OJ8vJuumm8d1/H9PpIjy/quOHMmWCIKegZx3EZK3mvzcg6apWTRICpLOIVBVxEzgDuB04HRoE1qnqXiMwEvgecDbwMfExVX2+cqUbNJPWni/KsCoWxeh4wlqud4JTrInE+R7nL96iFGxxRK9QEY/HheH7wuJVEM2yz67/we6P234q0aGrqVBXxOB74MHC7qj4pIlngCRF5BPgksElV7xCR5cBy4AuNM9WomUb+6VwxJZeHHbdeRy3E+Rwx1rkch4vZOyFXhVNOGRPZcp8pTkggjs0rV46vUujsitOXk6FscAJMRRGvKOCqugvY5T/Oi8hzwHxgKfBn/mb3AT/DBNyox9sPLo8Wbo9LuVTDqMk6wdfCNa9DK/I0lHx+bP3KsF1x39/uZYMTYqqJeFUxcBE5G7gA2AzM8cUdVd0lIpHLYIhID964D2fOnFmPrUY7UI3HF/Ycy4UXksIViHK4aePNri0eRVTaoWp7lT1wpBwnL4r4dS+1djnCBIgt4CLSBfwAuFVVD0nMPB1VXQPe+kgXnXVWE4pWGG1DMz1Hl8sdJFi9L1zcqtlEDQKH63y3Cy1gc1HEeXRSi3gsAReRaXji/R1V/aHfvEdE5vre91xg/OJ0xuSiGZ7V7t1eGCU8qJeUV14uXhxeGcdoe6aCiMfJQhHgHuA5Ve0LvLQeuAG4w79f1xALjdahGZ6VK8QU9szjeuWVZmvWskRbC6bOGfGY7CIexwO/BPgbYKuIPOW3rcAT7gdF5FPAK8B1jTHRMKpgwYLqxTa4tFnUexp94qr3BGEnmAmZzCIeJwvlfyi/4PYVyZpjGHVSi9iGUyGbTb0niBaIObc6k1XEM5U3MYwGkc16whm8uVrdhpEwg/0bWPXQW71FNCcJNpXeSI84U88NI0EmmyduAm60Fo2O51q8eMozmUTcBNxoLRodz7V4scHkEXGLgRuGMSWZDDFxE3DDMKYs7S7iJuCGYUxp2lnETcANw5jytKuIm4AbhmHQniJuAm4YhuHTbiJuAm4YhhGgnUTcBNwwDCNEu4i4CbhhGEYE7SDiJuCGYRhlaHURNwE3DMOYgFYWcRNwwzCMCrSqiJuAG4ZhxKAVRdwE3DAMIyZOxB+954W0TQFMwA3DMKpisH8D//vUSS3hiZuAG4ZhVInzxO9Z8WKqdpiAG4Zh1MBg/wb25k9k1YpDqdlgAm4YhlEjg/0bIJ9nVW5PKsevKOAicq+I7BWRZwNtM0XkERF50b9/S2PNNAzDaE0G+zfAseFUPPE4Hvi3gKtCbcuBTap6PrDJf24YhjElKXriy3Y09bgVBVxVHwX2h5qXAvf5j+8DPpKwXYZhGG3FYP8GgKaKeK0x8DmqugvAv59dbkMR6RGRx0Xk8X2FQo2HMwzDaH2aLeINH8RU1TWqepGqXjSrq6vRhzMMw0iVZop4rQK+R0TmAvj3e5MzyTAMo71plojXKuDrgRv8xzcA65IxxzAMY3LQDBGPk0Y4APwf8HYR2S4inwLuABaLyIvAYv+5YRiGEaDRIh4nC6VbVeeq6jRVXaCq96jqa6p6haqe79+Hs1QMwzAMGiviNhPTMAyjwQz2b2D2tNcTF3ETcMMwjCawue+XQLKeuAm4YRhGk0jaEzcBNwzDaCKb+36ZmIibgBuGYTSZzX2/5JLsM3WLuAm4YRhGCnx75av0zru/LhE3ATcMw0iJnt5TuWTeYM0ibgJuGIaRIt/u/S29171Uk4h3NsAewzAMowp6LnsegFXLoLd/fuz3mYAbhmG0ALWIuAm4YRhGi1CtiJuAG4ZhtBDViLgJuGEYRosRV8RNwA3DMFqQoIiXw9IIDcMwWpSey54vlqONwgTcMAyjTTEBNwzDaFNMwA3DMNoUE3DDMIw2xQTcMAyjTTEBNwzDaFNMwA3DMNqUugRcRK4Skd+JyDYRWZ6UUYZhRKM68XNjalHzTEwR6QC+DiwGtgOPich6Vf1tUsYZbcrKlZDPj2/PZmHFinjbQbx9JGFHI0nwM6559B3k35xG7sqtiHji3bdxIdnjjhVn7dVtU7P6xUiEeqbSLwK2qervAURkLbAUMAGf6uTz0NUV3V7NdnH2kYQdjSShz6gK+TenMbDlPAByV26lb+NCBracR/eibaiCSEI2GW1DPQI+H3g18Hw78L76zDEMIwoRT7QBBracVxTy7kXbih65MfWoJwYe9ZMZF5ETkR4ReVxEHt9XKNRxOMOY2gRF3GHiPbWpR8C3A2cEni8AdoY3UtU1qnqRql40K+qyzTCMWLiYd5C+jQttIHMKU4+APwacLyLniMh04HpgfTJmGYYRxIm3i3k/tuJhuhdtY2DLeSbiUxjROr55EVkC3Al0APeq6r9U2H4fcBj4Y80HbR6nYXbWxLvgnZ2h8ZXXIDMDhn4Lz020HcAwDAOUey24j2rtiLGPRPsz2c845zTo6ICde8bsnDcHRkZgT2yba+yXWmm532cE7WDjWao6K9xYl4DXgog8rqoXNfWgNWB2JovZmSxmZ3K0g43lsJmYhmEYbYoJuGEYRpuShoCvSeGYtWB2JovZmSxmZ3K0g42RND0GbhiGYSSDhVAMwzDaFBNwwzCMNqWpAt6q5WdF5AwR+W8ReU5EfiMit/jtXxaRHSLylH9b0gK2viwiW317HvfbZorIIyLyon//lhTte3ugv54SkUMicmur9KWI3Csie0Xk2UBbZP+Jx1f93+szInJhijb+m4g879vxsIic4refLSJHA/36zWbYOIGdZb9nEen1+/J3IvKBlO38XsDGl0XkKb89tf6sCVVtyg1vss9LwLnAdOBp4F3NOn4F2+YCF/qPs8ALwLuALwOfT9u+kK0vA6eF2v4VWO4/Xg58JW07A9/5buCsVulL4DLgQuDZSv0HLAF+glf352Jgc4o2/jnQ6T/+SsDGs4PbtUBfRn7P/v/paeA44BxfCzrSsjP0+r8D/5h2f9Zya6YHXiw/q6pDgCs/mzqquktVn/Qf5/Fmo81P16qqWArc5z++D/hIirYEuQJ4SVX/kLYhDlV9FNgfai7Xf0uB+9XjV8ApIjI3DRtV9aeqOuw//RVe7aFUKdOX5VgKrFXVN1V1ENiGpwkNZyI7RUSAjwEDzbAlaZop4FHlZ1tOJEXkbOACYLPf9Dn/svXeNEMTART4qYg8ISI9ftscVd0F3skImJ2adaVcT+kfo9X60lGu/1r1N/t3eFcGjnNE5Nci8nMRuTQtowJEfc+t2peXAntU9cVAW6v1Z1maKeCxys+miYh0AT8AblXVQ8A3gLcC7wV24V1qpc0lqnoh8EHgsyJyWdoGReEXOLsGeMhvasW+rETL/WZF5It4dVS+4zftAs5U1QuAHPBdETk5Lfso/z23XF/6dFPqZLRaf05IMwU8VvnZtBCRaXji/R1V/SGAqu5R1RFVHQXupkmXfBOhqjv9+73Aw3g27XGX9v793vQsLPJB4ElV3QOt2ZcByvVfS/1mReQG4Grgr9QP2Pohidf8x0/gxZbflpaNE3zPLdWXACLSCfwF8D3X1mr9WYlmCnjLlp/142D3AM+pal+gPRjv/CjwbPi9zUREThKRrHuMN7D1LF4/3uBvdgOwLh0LSyjxbFqtL0OU67/1wCf8bJSLgYMu1NJsROQq4AvANap6JNA+S7z1aRGRc4Hzgd+nYaNvQ7nveT1wvYgcJyLn4Nm5pdn2hbgSeF5Vt7uGVuvPijRzxBRvVP8FvLPaF9MewQ3Y9X68y7lngKf82xLgAWCr374emJuynefijeQ/DfzG9SFwKrAJeNG/n5mynScCrwEzAm0t0Zd4J5VdwDE8r/BT5foP77L/6/7vdStwUYo2bsOLIbvf5zf9ba/1fwtPA08CH065L8t+z8AX/b78HfDBNO30278F/H1o29T6s5abTaU3DMNoU2wmpmEYRptiAm4YhtGmmIAbhmG0KSbghmEYbYoJuGEYRptiAm4YhtGmmIAbhmG0Kf8PKqM7c2yrbOwAAAAASUVORK5CYII=\n",
      "text/plain": [
       "<Figure size 432x288 with 1 Axes>"
      ]
     },
     "metadata": {
      "needs_background": "light"
     },
     "output_type": "display_data"
    }
   ],
   "source": [
    "plot_decision_regions(X_train, y_train, machine1)"
   ]
  },
  {
   "cell_type": "code",
   "execution_count": 16,
   "metadata": {},
   "outputs": [],
   "source": [
    "plt.show()"
   ]
  },
  {
   "cell_type": "code",
   "execution_count": 17,
   "metadata": {},
   "outputs": [
    {
     "data": {
      "text/plain": [
       "0.7662337662337663"
      ]
     },
     "execution_count": 17,
     "metadata": {},
     "output_type": "execute_result"
    }
   ],
   "source": [
    "from sklearn.metrics import accuracy_score\n",
    "accuracy_score(y_test, y_pred)\n"
   ]
  },
  {
   "cell_type": "code",
   "execution_count": 18,
   "metadata": {},
   "outputs": [
    {
     "data": {
      "image/png": "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\n",
      "text/plain": [
       "<Figure size 432x288 with 1 Axes>"
      ]
     },
     "metadata": {
      "needs_background": "light"
     },
     "output_type": "display_data"
    }
   ],
   "source": [
    "plt.scatter(np.array(X)[:,0],np.array(X)[:,1])\n",
    "plt.show()\n"
   ]
  },
  {
   "cell_type": "code",
   "execution_count": 19,
   "metadata": {},
   "outputs": [
    {
     "name": "stderr",
     "output_type": "stream",
     "text": [
      "C:\\ProgramData\\Anaconda3\\lib\\site-packages\\sklearn\\svm\\base.py:193: FutureWarning: The default value of gamma will change from 'auto' to 'scale' in version 0.22 to account better for unscaled features. Set gamma explicitly to 'auto' or 'scale' to avoid this warning.\n",
      "  \"avoid this warning.\", FutureWarning)\n"
     ]
    }
   ],
   "source": [
    "machine2 = svm.SVC(kernel = 'rbf')\n",
    "machine2.fit(X_train,y_train)\n",
    "y_pred2 = machine2.predict(X_test)\n"
   ]
  },
  {
   "cell_type": "code",
   "execution_count": null,
   "metadata": {},
   "outputs": [],
   "source": [
    "plot_decision_regions(np.array(X), np.array(y), machine2)"
   ]
  },
  {
   "cell_type": "code",
   "execution_count": null,
   "metadata": {},
   "outputs": [],
   "source": [
    "plt.show()"
   ]
  },
  {
   "cell_type": "code",
   "execution_count": null,
   "metadata": {},
   "outputs": [],
   "source": [
    "accuracy_score(y_test, y_pred2)"
   ]
  },
  {
   "cell_type": "code",
   "execution_count": null,
   "metadata": {},
   "outputs": [],
   "source": [
    "from sklearn.pipeline import Pipeline\n",
    "from sklearn.preprocessing import StandardScaler\n",
    "from sklearn.model_selection import GridSearchCV\n",
    "from sklearn.svm import SVC\n",
    "pipe_svc = Pipeline([('scl', StandardScaler()),('clf', SVC(random_state=1))])\n",
    "param_range = [0.0001, 0.001, 0.01, 0.1, 1.0, 10.0, 100.0, 1000.0]\n",
    "param_grid = [{'clf__C': param_range,'clf__kernel': ['linear']},{'clf__C': param_range,'clf__gamma': param_range,'clf__kernel': ['rbf']}]\n",
    "gs = GridSearchCV(estimator=pipe_svc,param_grid=param_grid,scoring='accuracy',cv=10,n_jobs=-1)\n",
    "gs = gs.fit(X_train, y_train)\n"
   ]
  },
  {
   "cell_type": "code",
   "execution_count": null,
   "metadata": {},
   "outputs": [],
   "source": [
    "print(gs.best_score_)\n",
    "print(gs.best_params_)"
   ]
  },
  {
   "cell_type": "code",
   "execution_count": null,
   "metadata": {},
   "outputs": [],
   "source": [
    ">>> clf = gs.best_estimator_\n",
    ">>> clf.fit(X_train, y_train)\n",
    ">>> print('Test accuracy: %.3f' % clf.score(X_test, y_test))\n"
   ]
  },
  {
   "cell_type": "code",
   "execution_count": null,
   "metadata": {},
   "outputs": [],
   "source": [
    "from sklearn.pipeline import Pipeline\n",
    "from sklearn.preprocessing import StandardScaler\n",
    "from sklearn.model_selection import GridSearchCV\n",
    "from sklearn.svm import SVC\n",
    "pipe_svc = Pipeline([('scl', StandardScaler()),('clf', SVC(random_state=1))])\n",
    "param_range = [0.0001, 0.001, 0.01, 0.1, 1.0, 10.0, 100.0, 1000.0]\n",
    "param_grid = [{'clf__C': param_range,'clf__kernel': ['linear']},{'clf__C': param_range,'clf__gamma': param_range,'clf__kernel': ['rbf']}]\n",
    "gs = GridSearchCV(estimator=pipe_svc,param_grid=param_grid,scoring='accuracy',cv=10,n_jobs=-1)\n",
    "gs = gs.fit(X_train, y_train)"
   ]
  },
  {
   "cell_type": "code",
   "execution_count": 27,
   "metadata": {},
   "outputs": [
    {
     "name": "stdout",
     "output_type": "stream",
     "text": [
      "0.7579143389199255\n",
      "{'clf__C': 0.01, 'clf__kernel': 'linear'}\n"
     ]
    }
   ],
   "source": [
    "print(gs.best_score_)\n",
    "print(gs.best_params_)\n"
   ]
  },
  {
   "cell_type": "code",
   "execution_count": 28,
   "metadata": {},
   "outputs": [
    {
     "name": "stdout",
     "output_type": "stream",
     "text": [
      "Test accuracy: 0.766\n"
     ]
    }
   ],
   "source": [
    ">>> clf = gs.best_estimator_\n",
    ">>> clf.fit(X_train, y_train)\n",
    ">>> print('Test accuracy: %.3f' % clf.score(X_test, y_test))"
   ]
  },
  {
   "cell_type": "code",
   "execution_count": null,
   "metadata": {},
   "outputs": [],
   "source": []
  },
  {
   "cell_type": "code",
   "execution_count": null,
   "metadata": {},
   "outputs": [],
   "source": []
  }
 ],
 "metadata": {
  "kernelspec": {
   "display_name": "Python 3.7.3 64-bit",
   "language": "python",
   "name": "python37364bitba8d80017d11455dbaad5cbfc7aaeaac"
  },
  "language_info": {
   "codemirror_mode": {
    "name": "ipython",
    "version": 3
   },
   "file_extension": ".py",
   "mimetype": "text/x-python",
   "name": "python",
   "nbconvert_exporter": "python",
   "pygments_lexer": "ipython3",
   "version": "3.7.3"
  }
 },
 "nbformat": 4,
 "nbformat_minor": 2
 #diabetes prediction
}
